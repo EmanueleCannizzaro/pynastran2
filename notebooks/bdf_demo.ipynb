{
 "cells": [
  {
   "cell_type": "markdown",
   "metadata": {},
   "source": [
    "# BDF Demo\n",
    "\n",
    "The iPython notebook for this demo can be found in:\n",
    "   - docs\\quick_start\\demo\\bdf_demo.ipynb\n",
    "   - https://github.com/SteveDoyle2/pyNastran/tree/master/docs/quick_start/demo/bdf_demo.ipynb"
   ]
  },
  {
   "cell_type": "markdown",
   "metadata": {},
   "source": [
    "Import pyNastran"
   ]
  },
  {
   "cell_type": "code",
   "execution_count": 3,
   "metadata": {},
   "outputs": [],
   "source": [
    "import sys\n",
    "import os\n",
    "LIBRARIES = ['../../../']\n",
    "for lib in LIBRARIES:\n",
    "    if not os.path.exists(lib) :\n",
    "        print('The specified libray path does not exists.')\n",
    "        sys.exit(1)\n",
    "    if os.path.abspath(lib) not in sys.path:\n",
    "        sys.path.append(os.path.abspath(lib))\n",
    "import pyNastran"
   ]
  },
  {
   "cell_type": "code",
   "execution_count": 5,
   "metadata": {},
   "outputs": [
    {
     "name": "stdout",
     "output_type": "stream",
     "text": [
      "/home/workspace/pyNastran/pyNastran/__init__.py\n",
      "0.9.0+dev.d9de8e8\n",
      "pkg_path = /home/workspace/pyNastran/pyNastran\n"
     ]
    }
   ],
   "source": [
    "print (pyNastran.__file__)\n",
    "print (pyNastran.__version__)\n",
    "pkg_path = pyNastran.__path__[0]\n",
    "\n",
    "from pyNastran.bdf.bdf import BDF, read_bdf\n",
    "from pyNastran.utils import object_attributes, object_methods\n",
    "\n",
    "print(\"pkg_path = %s\" % pkg_path)"
   ]
  },
  {
   "cell_type": "markdown",
   "metadata": {},
   "source": [
    "## Let's load the  iSat model into the pyNastranGUI\n",
    "\n",
    "it's a .dat file, so instead of:\n",
    "\n",
    "```\n",
    ">>> pyNastranGUI -i bdf_filename\n",
    "```\n",
    "we need to include the format:\n",
    "\n",
    "```\n",
    ">>> pyNastranGUI -f nastran -i bdf_filename\n",
    "```\n",
    "\n",
    "Alternatively, we could load the model and the results, but in this demo we're just showing off the geometry.  To do that instead:\n",
    "\n",
    "```\n",
    ">>> pyNastranGUI -f nastran -i bdf_filename -o op2_filename\n",
    "```"
   ]
  },
  {
   "cell_type": "code",
   "execution_count": 6,
   "metadata": {},
   "outputs": [
    {
     "name": "stdout",
     "output_type": "stream",
     "text": [
      "/home/workspace/pyNastran/models/iSat/ISat_Launch_Sm_Rgd.dat\n",
      "/bin/sh: 1: pyNastranGUI: not found\r\n"
     ]
    }
   ],
   "source": [
    "bdf_filename = os.path.abspath(os.path.join(pkg_path, '..', 'models', 'iSat', 'ISat_Launch_Sm_Rgd.dat'))\n",
    "print(bdf_filename)\n",
    "\n",
    "# look at the model\n",
    "!pyNastranGUI -f nastran -i {bdf_filename} > junk.out"
   ]
  },
  {
   "cell_type": "markdown",
   "metadata": {},
   "source": [
    "## Loading a BDF\n",
    "There are two ways to load a BDF; the long way or the short way.\n",
    "\n",
    "The short way instantiates the ```BDF``` class and the short way uses the ```read_bdf``` function.\n",
    "As this demo was written for the Jupyter Notebook, we'll use read_bdf and then mention the other method.  The class-based method allows finer control over things like:\n",
    " - what cards should be loaded\n",
    " - OpenMDAO dynamic syntax support\n",
    "\n",
    "### The Class-based method"
   ]
  },
  {
   "cell_type": "code",
   "execution_count": 7,
   "metadata": {},
   "outputs": [
    {
     "name": "stdout",
     "output_type": "stream",
     "text": [
      "/home/workspace/pyNastran/models/iSat/ISat_Launch_Sm_Rgd.dat\n",
      "DEBUG:   bdf.py:1065                  ---starting BDF.read_bdf of /home/workspace/pyNastran/models/iSat/ISat_Launch_Sm_Rgd.dat---\n",
      "DEBUG:   bdf.py:3662                  opening '/home/workspace/pyNastran/models/iSat/ISat_Launch_Sm_Rgd.dat'\n",
      "DEBUG:   bdf.py:1117                  ---finished BDF.read_bdf of /home/workspace/pyNastran/models/iSat/ISat_Launch_Sm_Rgd.dat---\n"
     ]
    }
   ],
   "source": [
    "print(bdf_filename)\n",
    "\n",
    "# create the BDF object\n",
    "bdf = BDF()\n",
    "\n",
    "# read the file from the GUI\n",
    "# don't cross-reference\n",
    "bdf.read_bdf(bdf_filename, xref=False)"
   ]
  },
  {
   "cell_type": "markdown",
   "metadata": {},
   "source": [
    "### The function-based method"
   ]
  },
  {
   "cell_type": "code",
   "execution_count": 8,
   "metadata": {},
   "outputs": [
    {
     "name": "stdout",
     "output_type": "stream",
     "text": [
      "DEBUG:   bdf.py:1065                  ---starting BDF.read_bdf of /home/workspace/pyNastran/models/iSat/ISat_Launch_Sm_Rgd.dat---\n",
      "DEBUG:   bdf.py:3662                  opening '/home/workspace/pyNastran/models/iSat/ISat_Launch_Sm_Rgd.dat'\n",
      "DEBUG:   bdf.py:1117                  ---finished BDF.read_bdf of /home/workspace/pyNastran/models/iSat/ISat_Launch_Sm_Rgd.dat---\n"
     ]
    }
   ],
   "source": [
    "bdf = read_bdf(bdf_filename, xref=False)"
   ]
  },
  {
   "cell_type": "markdown",
   "metadata": {},
   "source": [
    "For simplicity of using the demo, we'll again use the ```read_bdf``` method"
   ]
  },
  {
   "cell_type": "code",
   "execution_count": 9,
   "metadata": {},
   "outputs": [
    {
     "name": "stdout",
     "output_type": "stream",
     "text": [
      "DEBUG:   bdf.py:1065                  ---starting BDF.read_bdf of /home/workspace/pyNastran/models/iSat/ISat_Launch_Sm_Rgd.dat---\n",
      "DEBUG:   bdf.py:3662                  opening '/home/workspace/pyNastran/models/iSat/ISat_Launch_Sm_Rgd.dat'\n",
      "DEBUG:   cross_reference.py:148       Cross Referencing...\n",
      "WARNING: shell.py:1863                PSHELL pid=1 midsurface: z1=0.400000006 z2=-0.400000006 t=0.035999998 not in range of -1.5t < zi < 1.5t\n",
      "WARNING: shell.py:1863                PSHELL pid=2 midsurface: z1=0.400000006 z2=-0.400000006 t=0.054000005 not in range of -1.5t < zi < 1.5t\n",
      "WARNING: shell.py:1863                PSHELL pid=3 midsurface: z1=0.400000006 z2=-0.400000006 t=0.017999999 not in range of -1.5t < zi < 1.5t\n",
      "WARNING: shell.py:1863                PSHELL pid=7 midsurface: z1=0.418000013 z2=-0.418000013 t=0.035999998 not in range of -1.5t < zi < 1.5t\n",
      "WARNING: shell.py:1863                PSHELL pid=34 midsurface: z1=0.194000006 z2=-0.194000006 t=0.0186 not in range of -1.5t < zi < 1.5t\n",
      "WARNING: shell.py:1863                PSHELL pid=38 midsurface: z1=0.284000009 z2=-0.284000009 t=0.0186 not in range of -1.5t < zi < 1.5t\n",
      "WARNING: shell.py:1863                PSHELL pid=46 midsurface: z1=0.199000001 z2=-0.199000001 t=0.0186 not in range of -1.5t < zi < 1.5t\n",
      "WARNING: shell.py:1863                PSHELL pid=37 midsurface: z1=0.308999985 z2=-0.308999985 t=0.0186 not in range of -1.5t < zi < 1.5t\n",
      "DEBUG:   bdf.py:1117                  ---finished BDF.read_bdf of /home/workspace/pyNastran/models/iSat/ISat_Launch_Sm_Rgd.dat---\n"
     ]
    }
   ],
   "source": [
    "#bdf_filename = r'D:\\work\\pynastran_0.8.0_py27\\models\\iSat\\ISat_Launch_Sm_Rgd.dat'\n",
    "bdf_filename = os.path.abspath(os.path.join(pkg_path, '..', 'models', 'iSat', 'ISat_Launch_Sm_Rgd.dat'))\n",
    "\n",
    "# read the file as a path\n",
    "bdf_xref = read_bdf(bdf_filename, xref=True)"
   ]
  },
  {
   "cell_type": "markdown",
   "metadata": {},
   "source": [
    "## Interrogating the BDF object\n",
    "\n",
    "IDE's like WingIDE, PyCharm, Spyder and \"Python Tools for Visual Studio\" make it very easy to program with their object introspection ability.  Unfortunately, because pyNastran has so many functions, it can be difficult to learn the code.\n",
    "\n",
    "Some handy object introspection methods were created that will work on all pyNastran objects and even non-pyNastran objects.  By convention, private data members/functions start with an underscore _, and public ones do not."
   ]
  },
  {
   "cell_type": "markdown",
   "metadata": {},
   "source": [
    "We can use the generic object attributes/methods functions"
   ]
  },
  {
   "cell_type": "code",
   "execution_count": 10,
   "metadata": {},
   "outputs": [
    {
     "name": "stdout",
     "output_type": "stream",
     "text": [
      "['MATS1', 'MATS3', 'MATS8', 'MATT1', 'MATT2', 'MATT3', 'MATT4', 'MATT5', 'MATT8', 'MATT9', 'active_filename', 'active_filenames', 'aecomps', 'aefacts', 'aelinks', 'aelists', 'aeparams', 'aero', 'aeros', 'aestats', 'aesurf', 'aesurfs', 'ao_element_flags', 'asets', 'bcrparas', 'bcs', 'bctadds', 'bctparas', 'bctsets', 'bdf_filename', 'bsets', 'bsurf', 'bsurfs', 'cMethods', 'caero_ids', 'caeros', 'card_count', 'cards_to_read', 'case_control_deck', 'case_control_lines', 'convection_properties', 'coord_ids', 'coords', 'creep_materials', 'csets', 'csschds', 'dareas', 'dconadds', 'dconstrs', 'ddvals', 'debug', 'delays', 'dequations', 'desvars', 'divergs', 'dlinks', 'dload_entries', 'dloads', 'dmigs', 'dmijis', 'dmijs', 'dmiks', 'dmis', 'doptprm', 'dphases', 'dresps', 'dscreen', 'dtable', 'dti', 'dumplines', 'dvcrels', 'dvgrids', 'dvmrels', 'dvprels', 'echo', 'element_ids', 'elements', 'epoints', 'executive_control_lines', 'flfacts', 'flutters', 'frequencies', 'grdset', 'gusts', 'hyperelastic_materials', 'include_dir', 'is_long_ids', 'is_msc', 'is_nx', 'loads', 'log', 'masses', 'material_ids', 'materials', 'methods', 'mkaeros', 'monitor_points', 'mpcs', 'nastran_format', 'ncaeros', 'ncoords', 'nelements', 'nlparms', 'nlpcis', 'nmaterials', 'nnodes', 'node_ids', 'nodes', 'nproperties', 'nsms', 'paeros', 'params', 'pbusht', 'pdampt', 'pelast', 'phbdys', 'plotels', 'point_ids', 'points', 'properties', 'properties_mass', 'property_ids', 'punch', 'qsets', 'random_tables', 'read_includes', 'reject_cards', 'reject_count', 'reject_lines', 'rejects', 'rigid_elements', 'rotors', 'rsolmap_to_str', 'se_bsets', 'se_csets', 'se_qsets', 'se_sets', 'se_suport', 'se_usets', 'seqgp', 'sets', 'sol', 'sol_iline', 'sol_method', 'spcoffs', 'spcs', 'special_cards', 'splines', 'spoints', 'subcases', 'suport', 'suport1', 'system_command_lines', 'tables', 'tables_d', 'tables_m', 'tables_sdamping', 'tempds', 'thermal_materials', 'tics', 'transfer_functions', 'trims', 'tstepnls', 'tsteps', 'units', 'usets', 'values_to_skip']\n",
      "['AEFact', 'AELIST', 'AELink', 'AEList', 'AEParam', 'AEStat', 'AESurf', 'Acsid', 'Aero', 'Aeros', 'CAero', 'CMethod', 'Coord', 'DConstr', 'DDVal', 'DELAY', 'DEQATN', 'DLoad', 'DMIG', 'DPHASE', 'DResp', 'DVcrel', 'DVmrel', 'DVprel', 'Desvar', 'Element', 'Elements', 'FLFACT', 'Flutter', 'Gust', 'HyperelasticMaterial', 'Load', 'MPC', 'Mass', 'Material', 'Materials', 'Method', 'NLParm', 'Node', 'Nodes', 'PAero', 'Phbdy', 'Point', 'Points', 'Properties', 'Property', 'PropertyMass', 'RandomTable', 'RigidElement', 'SET1', 'SPC', 'Set', 'Spline', 'StructuralMaterial', 'Table', 'TableD', 'TableM', 'ThermalMaterial', 'add_accel', 'add_accel1', 'add_acsrce', 'add_aecomp', 'add_aefact', 'add_aelink', 'add_aelist', 'add_aeparm', 'add_aero', 'add_aeros', 'add_aestat', 'add_aesurf', 'add_aesurfs', 'add_aset', 'add_aset1', 'add_bcrpara', 'add_bctadd', 'add_bctpara', 'add_bctset', 'add_bset', 'add_bset1', 'add_bsurf', 'add_bsurfs', 'add_caero1', 'add_caero2', 'add_caero3', 'add_caero4', 'add_caero5', 'add_card', 'add_card_class', 'add_card_fields', 'add_card_lines', 'add_cbar', 'add_cbarao', 'add_cbeam', 'add_cbeam3', 'add_cbend', 'add_cbush', 'add_cbush1d', 'add_cbush2d', 'add_cdamp1', 'add_cdamp2', 'add_cdamp3', 'add_cdamp4', 'add_cdamp5', 'add_celas1', 'add_celas2', 'add_celas3', 'add_celas4', 'add_cfast', 'add_cgap', 'add_cgen', 'add_chbdye', 'add_chbdyg', 'add_chbdyp', 'add_chexa', 'add_cihex1', 'add_cihex2', 'add_cmass1', 'add_cmass2', 'add_cmass3', 'add_cmass4', 'add_conm1', 'add_conm2', 'add_conrod', 'add_conv', 'add_convm', 'add_cord1c', 'add_cord1r', 'add_cord1s', 'add_cord2c', 'add_cord2r', 'add_cord2s', 'add_cpenta', 'add_cplstn3', 'add_cplstn4', 'add_cplstn6', 'add_cplstn8', 'add_cplsts3', 'add_cpyram', 'add_cquad', 'add_cquad4', 'add_cquad8', 'add_cquadr', 'add_cquadx', 'add_cquadx4', 'add_cquadx8', 'add_crac2d', 'add_crac3d', 'add_creep', 'add_crod', 'add_cset', 'add_cset1', 'add_cshear', 'add_csschd', 'add_ctetra', 'add_ctrax3', 'add_ctrax6', 'add_ctria3', 'add_ctria6', 'add_ctriar', 'add_ctriax', 'add_ctriax6', 'add_ctube', 'add_cvisc', 'add_darea', 'add_dconadd', 'add_dconstr', 'add_ddval', 'add_delay', 'add_deqatn', 'add_desvar', 'add_diverg', 'add_dlink', 'add_dload', 'add_dmi', 'add_dmig', 'add_dmig_uaccel', 'add_dmij', 'add_dmiji', 'add_dmik', 'add_doptprm', 'add_dphase', 'add_dresp1', 'add_dresp2', 'add_dresp3', 'add_dtable', 'add_dti', 'add_dvcrel1', 'add_dvcrel2', 'add_dvgrid', 'add_dvmrel1', 'add_dvmrel2', 'add_dvprel1', 'add_dvprel2', 'add_eigb', 'add_eigc', 'add_eigp', 'add_eigr', 'add_eigrl', 'add_epoint', 'add_flfact', 'add_flutter', 'add_force', 'add_force1', 'add_force2', 'add_freq', 'add_freq1', 'add_freq2', 'add_freq4', 'add_gmspc', 'add_grav', 'add_grdset', 'add_grid', 'add_gust', 'add_load', 'add_loadcyn', 'add_lseq', 'add_mat1', 'add_mat10', 'add_mat11', 'add_mat2', 'add_mat3', 'add_mat3d', 'add_mat4', 'add_mat5', 'add_mat8', 'add_mat9', 'add_matg', 'add_mathe', 'add_mathp', 'add_mats1', 'add_matt1', 'add_matt2', 'add_matt4', 'add_matt5', 'add_mkaero1', 'add_mkaero2', 'add_moment', 'add_moment1', 'add_moment2', 'add_monpnt1', 'add_monpnt2', 'add_monpnt3', 'add_mpc', 'add_mpcadd', 'add_nlparm', 'add_nlpci', 'add_nsm', 'add_nsm1', 'add_nsmadd', 'add_nsml', 'add_nsml1', 'add_paero1', 'add_paero2', 'add_paero3', 'add_paero4', 'add_paero5', 'add_param', 'add_pbar', 'add_pbarl', 'add_pbcomp', 'add_pbeam', 'add_pbeaml', 'add_pbend', 'add_pbmsect', 'add_pbrsect', 'add_pbush', 'add_pbush1d', 'add_pbusht', 'add_pcomp', 'add_pcompg', 'add_pcomps', 'add_pconeax', 'add_pconv', 'add_pconvm', 'add_pdamp', 'add_pdamp5', 'add_pdampt', 'add_pelas', 'add_pelast', 'add_pfast', 'add_pgap', 'add_phbdy', 'add_pihex', 'add_pload', 'add_pload1', 'add_pload2', 'add_pload4', 'add_ploadx1', 'add_plotel', 'add_plplane', 'add_plsolid', 'add_pmass', 'add_point', 'add_pplane', 'add_prac2d', 'add_prac3d', 'add_prod', 'add_pshear', 'add_pshell', 'add_psolid', 'add_ptube', 'add_pvisc', 'add_qbdy1', 'add_qbdy2', 'add_qbdy3', 'add_qhbdy', 'add_qset', 'add_qset1', 'add_qvect', 'add_qvol', 'add_radbc', 'add_radm', 'add_randps', 'add_rbar', 'add_rbar1', 'add_rbe1', 'add_rbe2', 'add_rbe3', 'add_rforce', 'add_rforce1', 'add_rload1', 'add_rload2', 'add_rotord', 'add_rotorg', 'add_rrod', 'add_rspline', 'add_sebset', 'add_sebset1', 'add_secset', 'add_secset1', 'add_seqgp', 'add_seqset', 'add_seqset1', 'add_seset', 'add_sesup', 'add_set1', 'add_set3', 'add_sload', 'add_spc', 'add_spc1', 'add_spcadd', 'add_spcax', 'add_spcd', 'add_spline1', 'add_spline2', 'add_spline3', 'add_spline4', 'add_spline5', 'add_spoint', 'add_suport', 'add_suport1', 'add_tabdmp1', 'add_tabled1', 'add_tabled2', 'add_tabled3', 'add_tabled4', 'add_tablem1', 'add_tablem2', 'add_tablem3', 'add_tablem4', 'add_tables1', 'add_tablest', 'add_tabrnd1', 'add_tabrndg', 'add_temp', 'add_tempd', 'add_tf', 'add_tic', 'add_tload1', 'add_tload2', 'add_trim', 'add_tstep', 'add_tstep1', 'add_tstepnl', 'add_uset', 'add_uset1', 'create_card_object', 'create_card_object_fields', 'create_card_object_list', 'cross_reference', 'deprecated', 'disable_cards', 'fill_dmigs', 'geom_check', 'get_MPCx_node_ids_c1', 'get_SPCx_node_ids', 'get_SPCx_node_ids_c1', 'get_area_breakdown', 'get_bdf_cards', 'get_bdf_cards_dict', 'get_bdf_stats', 'get_card_ids_by_card_types', 'get_cards_by_card_types', 'get_dependent_nid_to_components', 'get_displacement_index', 'get_displacement_index_transforms', 'get_displacement_index_xyz_cp_cd', 'get_dload_entries', 'get_element_faces', 'get_element_ids_dict_with_pids', 'get_element_ids_list_with_pids', 'get_element_nodes_by_element_type', 'get_elements_nodes_by_property_type', 'get_encoding', 'get_load_arrays', 'get_mass_breakdown', 'get_material_id_to_property_ids_map', 'get_material_ids', 'get_mpcs', 'get_node_id_to_element_ids_map', 'get_node_id_to_elements_map', 'get_node_ids_with_elements', 'get_pid_to_node_ids_and_elements_array', 'get_pressure_array', 'get_property_id_to_element_ids_map', 'get_reduced_mpcs', 'get_reduced_spcs', 'get_rigid_elements_with_node_ids', 'get_rslot_map', 'get_solid_skin_faces', 'get_spcs', 'get_structural_material_ids', 'get_thermal_material_ids', 'get_volume_breakdown', 'get_xyz_in_coord', 'get_xyz_in_coord_no_xref', 'is_reject', 'load', 'mass_properties', 'mass_properties_no_xref', 'object_attributes', 'object_methods', 'pop_parse_errors', 'pop_xref_errors', 'process_card', 'read_bdf', 'reject_card_lines', 'reject_card_obj2', 'replace_cards', 'resolve_grids', 'safe_cross_reference', 'safe_get_elements', 'save', 'set_as_msc', 'set_as_nx', 'set_dynamic_syntax', 'set_error_storage', 'sum_forces_moments', 'sum_forces_moments_elements', 'transform_xyzcp_to_xyz_cid', 'uncross_reference', 'update_card', 'update_solution', 'validate', 'write_bdf', 'write_bdf_symmetric', 'write_caero_model', 'write_skin_solid_faces']\n"
     ]
    }
   ],
   "source": [
    "print(object_attributes(bdf))\n",
    "print(object_methods(bdf))"
   ]
  },
  {
   "cell_type": "markdown",
   "metadata": {},
   "source": [
    "#### Let's clean that up a bit"
   ]
  },
  {
   "cell_type": "code",
   "execution_count": 11,
   "metadata": {},
   "outputs": [
    {
     "name": "stdout",
     "output_type": "stream",
     "text": [
      "attributes = [MATS1, MATS3, MATS8, MATT1, MATT2, MATT3, MATT4, MATT5, MATT8, MATT9, active_filename, active_filenames, aecomps, aefacts, aelinks, aelists, aeparams, aero, aeros, aestats, aesurf, aesurfs, ao_element_flags, asets, bcrparas, bcs, bctadds, bctparas, bctsets, bdf_filename, bsets, bsurf, bsurfs, cMethods, caeros, card_count, cards_to_read, case_control_deck, case_control_lines, convection_properties, coords, creep_materials, csets, csschds, dareas, dconadds, dconstrs, ddvals, debug, delays, dequations, desvars, divergs, dlinks, dload_entries, dloads, dmigs, dmijis, dmijs, dmiks, dmis, doptprm, dphases, dresps, dscreen, dtable, dti, dumplines, dvcrels, dvgrids, dvmrels, dvprels, echo, elements, epoints, executive_control_lines, flfacts, flutters, frequencies, grdset, gusts, hyperelastic_materials, include_dir, is_msc, is_nx, loads, masses, materials, methods, mkaeros, monitor_points, mpcs, nastran_format, nlparms, nlpcis, nodes, nsms, paeros, params, pbusht, pdampt, pelast, phbdys, plotels, points, properties, properties_mass, punch, qsets, random_tables, read_includes, reject_cards, reject_count, reject_lines, rejects, rigid_elements, rotors, rsolmap_to_str, se_bsets, se_csets, se_qsets, se_sets, se_suport, se_usets, seqgp, sets, sol, sol_iline, sol_method, spcoffs, spcs, special_cards, splines, spoints, suport, suport1, system_command_lines, tables, tables_d, tables_m, tables_sdamping, tempds, thermal_materials, tics, transfer_functions, trims, tstepnls, tsteps, units, usets, values_to_skip]\n",
      "\n",
      "methods = [AEFact, AELIST, AELink, AEList, AEParam, AEStat, AESurf, Acsid, Aero, Aeros, CAero, CMethod, Coord, DConstr, DDVal, DELAY, DEQATN, DLoad, DMIG, DPHASE, DResp, DVcrel, DVmrel, DVprel, Desvar, Element, Elements, FLFACT, Flutter, Gust, HyperelasticMaterial, Load, MPC, Mass, Material, Materials, Method, NLParm, Node, Nodes, PAero, Phbdy, Point, Points, Properties, Property, PropertyMass, RandomTable, RigidElement, SET1, SPC, Set, Spline, StructuralMaterial, Table, TableD, TableM, ThermalMaterial, add_accel, add_accel1, add_acsrce, add_aecomp, add_aefact, add_aelink, add_aelist, add_aeparm, add_aero, add_aeros, add_aestat, add_aesurf, add_aesurfs, add_aset, add_aset1, add_bcrpara, add_bctadd, add_bctpara, add_bctset, add_bset, add_bset1, add_bsurf, add_bsurfs, add_caero1, add_caero2, add_caero3, add_caero4, add_caero5, add_card, add_card_class, add_card_fields, add_card_lines, add_cbar, add_cbarao, add_cbeam, add_cbeam3, add_cbend, add_cbush, add_cbush1d, add_cbush2d, add_cdamp1, add_cdamp2, add_cdamp3, add_cdamp4, add_cdamp5, add_celas1, add_celas2, add_celas3, add_celas4, add_cfast, add_cgap, add_cgen, add_chbdye, add_chbdyg, add_chbdyp, add_chexa, add_cihex1, add_cihex2, add_cmass1, add_cmass2, add_cmass3, add_cmass4, add_conm1, add_conm2, add_conrod, add_conv, add_convm, add_cord1c, add_cord1r, add_cord1s, add_cord2c, add_cord2r, add_cord2s, add_cpenta, add_cplstn3, add_cplstn4, add_cplstn6, add_cplstn8, add_cplsts3, add_cpyram, add_cquad, add_cquad4, add_cquad8, add_cquadr, add_cquadx, add_cquadx4, add_cquadx8, add_crac2d, add_crac3d, add_creep, add_crod, add_cset, add_cset1, add_cshear, add_csschd, add_ctetra, add_ctrax3, add_ctrax6, add_ctria3, add_ctria6, add_ctriar, add_ctriax, add_ctriax6, add_ctube, add_cvisc, add_darea, add_dconadd, add_dconstr, add_ddval, add_delay, add_deqatn, add_desvar, add_diverg, add_dlink, add_dload, add_dmi, add_dmig, add_dmig_uaccel, add_dmij, add_dmiji, add_dmik, add_doptprm, add_dphase, add_dresp1, add_dresp2, add_dresp3, add_dtable, add_dti, add_dvcrel1, add_dvcrel2, add_dvgrid, add_dvmrel1, add_dvmrel2, add_dvprel1, add_dvprel2, add_eigb, add_eigc, add_eigp, add_eigr, add_eigrl, add_epoint, add_flfact, add_flutter, add_force, add_force1, add_force2, add_freq, add_freq1, add_freq2, add_freq4, add_gmspc, add_grav, add_grdset, add_grid, add_gust, add_load, add_loadcyn, add_lseq, add_mat1, add_mat10, add_mat11, add_mat2, add_mat3, add_mat3d, add_mat4, add_mat5, add_mat8, add_mat9, add_matg, add_mathe, add_mathp, add_mats1, add_matt1, add_matt2, add_matt4, add_matt5, add_mkaero1, add_mkaero2, add_moment, add_moment1, add_moment2, add_monpnt1, add_monpnt2, add_monpnt3, add_mpc, add_mpcadd, add_nlparm, add_nlpci, add_nsm, add_nsm1, add_nsmadd, add_nsml, add_nsml1, add_paero1, add_paero2, add_paero3, add_paero4, add_paero5, add_param, add_pbar, add_pbarl, add_pbcomp, add_pbeam, add_pbeaml, add_pbend, add_pbmsect, add_pbrsect, add_pbush, add_pbush1d, add_pbusht, add_pcomp, add_pcompg, add_pcomps, add_pconeax, add_pconv, add_pconvm, add_pdamp, add_pdamp5, add_pdampt, add_pelas, add_pelast, add_pfast, add_pgap, add_phbdy, add_pihex, add_pload, add_pload1, add_pload2, add_pload4, add_ploadx1, add_plotel, add_plplane, add_plsolid, add_pmass, add_point, add_pplane, add_prac2d, add_prac3d, add_prod, add_pshear, add_pshell, add_psolid, add_ptube, add_pvisc, add_qbdy1, add_qbdy2, add_qbdy3, add_qhbdy, add_qset, add_qset1, add_qvect, add_qvol, add_radbc, add_radm, add_randps, add_rbar, add_rbar1, add_rbe1, add_rbe2, add_rbe3, add_rforce, add_rforce1, add_rload1, add_rload2, add_rotord, add_rotorg, add_rrod, add_rspline, add_sebset, add_sebset1, add_secset, add_secset1, add_seqgp, add_seqset, add_seqset1, add_seset, add_sesup, add_set1, add_set3, add_sload, add_spc, add_spc1, add_spcadd, add_spcax, add_spcd, add_spline1, add_spline2, add_spline3, add_spline4, add_spline5, add_spoint, add_suport, add_suport1, add_tabdmp1, add_tabled1, add_tabled2, add_tabled3, add_tabled4, add_tablem1, add_tablem2, add_tablem3, add_tablem4, add_tables1, add_tablest, add_tabrnd1, add_tabrndg, add_temp, add_tempd, add_tf, add_tic, add_tload1, add_tload2, add_trim, add_tstep, add_tstep1, add_tstepnl, add_uset, add_uset1, create_card_object, create_card_object_fields, create_card_object_list, cross_reference, deprecated, disable_cards, fill_dmigs, geom_check, get_MPCx_node_ids_c1, get_SPCx_node_ids, get_SPCx_node_ids_c1, get_area_breakdown, get_bdf_cards, get_bdf_cards_dict, get_bdf_stats, get_card_ids_by_card_types, get_cards_by_card_types, get_dependent_nid_to_components, get_displacement_index, get_displacement_index_transforms, get_displacement_index_xyz_cp_cd, get_dload_entries, get_element_faces, get_element_ids_dict_with_pids, get_element_ids_list_with_pids, get_element_nodes_by_element_type, get_elements_nodes_by_property_type, get_encoding, get_load_arrays, get_mass_breakdown, get_material_id_to_property_ids_map, get_material_ids, get_mpcs, get_node_id_to_element_ids_map, get_node_id_to_elements_map, get_node_ids_with_elements, get_pid_to_node_ids_and_elements_array, get_pressure_array, get_property_id_to_element_ids_map, get_reduced_mpcs, get_reduced_spcs, get_rigid_elements_with_node_ids, get_rslot_map, get_solid_skin_faces, get_spcs, get_structural_material_ids, get_thermal_material_ids, get_volume_breakdown, get_xyz_in_coord, get_xyz_in_coord_no_xref, is_reject, load, mass_properties, mass_properties_no_xref, pop_parse_errors, pop_xref_errors, process_card, read_bdf, reject_card_lines, reject_card_obj2, replace_cards, resolve_grids, safe_cross_reference, safe_get_elements, save, set_as_msc, set_as_nx, set_dynamic_syntax, set_error_storage, sum_forces_moments, sum_forces_moments_elements, transform_xyzcp_to_xyz_cid, uncross_reference, update_card, update_solution, validate, write_bdf, write_bdf_symmetric, write_caero_model, write_skin_solid_faces]\n",
      "\n"
     ]
    }
   ],
   "source": [
    "print(\"attributes = [%s]\\n\" % ', '.join(bdf.object_attributes()))\n",
    "print(\"methods = [%s]\\n\" % ', '.join(bdf.object_methods()))"
   ]
  },
  {
   "cell_type": "markdown",
   "metadata": {},
   "source": [
    "#### Some other very handy methods that will be used later by ```test_bdf```"
   ]
  },
  {
   "cell_type": "code",
   "execution_count": 12,
   "metadata": {},
   "outputs": [
    {
     "name": "stdout",
     "output_type": "stream",
     "text": [
      "---BDF Statistics---\n",
      "SOL 103\n",
      "\n",
      "bdf.params\n",
      "  PARAM    : 8\n",
      "\n",
      "bdf.nodes\n",
      "  GRID     : 5380\n",
      "\n",
      "bdf.elements\n",
      "  CBAR     : 827\n",
      "  CBUSH    : 104\n",
      "  CHEXA    : 25\n",
      "  CQUAD4   : 4580\n",
      "  CTRIA3   : 32\n",
      "\n",
      "bdf.rigid_elements\n",
      "  RBE2     : 44\n",
      "\n",
      "bdf.properties\n",
      "  PBAR     : 1\n",
      "  PBARL    : 18\n",
      "  PBUSH    : 2\n",
      "  PSHELL   : 8\n",
      "  PSOLID   : 4\n",
      "\n",
      "bdf.materials\n",
      "  MAT1     : 14\n",
      "  MAT8     : 8\n",
      "\n",
      "bdf.coords\n",
      "  CORD2R   : 75\n",
      "\n",
      "bdf.methods\n",
      "  EIGRL    : 1\n",
      "\n",
      "\n",
      "card_count = {'ENDDATA': 1, 'PARAM': 8, 'SPC': 1, 'USET': 1, 'EIGRL': 1, 'CORD2R': 75, 'GRID': 5380, 'CQUAD4': 4580, 'CBAR': 827, 'CHEXA': 25, 'RBE2': 44, 'CTRIA3': 32, 'CBUSH': 104, 'CONM2': 15, 'MAT1': 14, 'MAT8': 8, 'PSHELL': 8, 'PBARL': 18, 'PSOLID': 4, 'PBAR': 1, 'PBUSH': 2}\n",
      "\n",
      "reject_count = {}\n"
     ]
    }
   ],
   "source": [
    "print(bdf.get_bdf_stats())\n",
    "print(\"card_count = %s\\n\" % bdf.card_count)\n",
    "print(\"reject_count = %s\" % bdf.reject_count)"
   ]
  },
  {
   "cell_type": "markdown",
   "metadata": {},
   "source": [
    "## Cross-referencing\n",
    "\n",
    "Cross-referencing a BDF allows improved usability of the BDF class.  It comes with some negative side effects, but in general is a very useful thing.  It dramatically minimizes the amount of code you need to write, greatly simplifies future operations, and is highly recommended.\n",
    "\n",
    "The major downside is it prevents decks from being saved to object files for faster loading.\n",
    "\n",
    "### Without Cross-Referencing (xref=False)\n",
    "Here the raw values of the the data objects are returned to us"
   ]
  },
  {
   "cell_type": "code",
   "execution_count": 13,
   "metadata": {},
   "outputs": [
    {
     "name": "stdout",
     "output_type": "stream",
     "text": [
      "$*\n",
      "$*  ELEMENT CARDS\n",
      "$*\n",
      "CQUAD4         1       1       1       2       4       3\n",
      "\n",
      "nid1 = 1\n",
      "i xref=False [ 1.  0.  0.]\n"
     ]
    }
   ],
   "source": [
    "cquad = bdf.elements[1]\n",
    "print(cquad)\n",
    "nid1 = cquad.nodes[0]\n",
    "print(\"nid1 = %s\" % nid1)\n",
    "n1 = bdf.nodes[nid1]\n",
    "cd4 = n1.cd\n",
    "c4 = bdf.coords[cd4]\n",
    "print(\"i xref=False %s\" % str(c4.i))\n",
    "#print object_attributes(c4)"
   ]
  },
  {
   "cell_type": "markdown",
   "metadata": {},
   "source": [
    "### Cross-Referenced (xref=True)\n",
    "Here we can trace the referenced objects very easily"
   ]
  },
  {
   "cell_type": "code",
   "execution_count": 14,
   "metadata": {},
   "outputs": [
    {
     "name": "stdout",
     "output_type": "stream",
     "text": [
      "i xref=True [ 1.  0.  0.]\n"
     ]
    }
   ],
   "source": [
    "print(\"i xref=True %s\" % bdf_xref.elements[1].nodes[0].cd.i)"
   ]
  },
  {
   "cell_type": "markdown",
   "metadata": {},
   "source": [
    "So how is this done?"
   ]
  },
  {
   "cell_type": "code",
   "execution_count": 15,
   "metadata": {},
   "outputs": [
    {
     "name": "stdout",
     "output_type": "stream",
     "text": [
      "$*\n",
      "$*  GRID CARDS\n",
      "$*\n",
      "GRID           1       4    -4.5    -7.5    -14.       4\n",
      "\n"
     ]
    }
   ],
   "source": [
    "cquad.nodes[0] = n1\n",
    "print(cquad.nodes[0])"
   ]
  },
  {
   "cell_type": "markdown",
   "metadata": {},
   "source": [
    "#### Let's show off the GRID card"
   ]
  },
  {
   "cell_type": "code",
   "execution_count": 16,
   "metadata": {},
   "outputs": [
    {
     "name": "stdout",
     "output_type": "stream",
     "text": [
      "$*\n",
      "$*  GRID CARDS\n",
      "$*\n",
      "GRID           1       4    -4.5    -7.5    -14.       4\n",
      "\n",
      "c1='$*\\n$*  GRID CARDS\\n$*\\n'\n",
      "c2=''\n",
      "xyz = [ -4.5  -7.5 -14. ]\n",
      "position = [ -4.5  -7.5 -14. ]\n",
      "wrt5 = [  2.12132034  14.         -26.59188309]\n",
      "wrt4 = [ -4.5  -7.5 -14. ]\n"
     ]
    }
   ],
   "source": [
    "# some Grid methods\n",
    "n1 = bdf_xref.nodes[1]\n",
    "print(n1)\n",
    "\n",
    "# the comment\n",
    "c1 = bdf_xref.nodes[1].comment\n",
    "c2 = bdf_xref.nodes[2].comment\n",
    "print(\"c1=%r\" % c1)\n",
    "print(\"c2=%r\" % c2)\n",
    "\n",
    "\n",
    "# get the position of a node\n",
    "# in the local cooordinate system\n",
    "print(\"xyz = %s\" % n1.xyz)\n",
    "\n",
    "# in the global frame\n",
    "print(\"position = %s\" % n1.get_position())\n",
    "\n",
    "# in an arbitrary frame\n",
    "print(\"wrt5 = %s\" % n1.get_position_wrt(bdf, 5))\n",
    "print(\"wrt4 = %s\" % n1.get_position_wrt(bdf, 4))\n"
   ]
  },
  {
   "cell_type": "markdown",
   "metadata": {},
   "source": [
    "Now let's modify the GRID card and write it out"
   ]
  },
  {
   "cell_type": "code",
   "execution_count": 17,
   "metadata": {},
   "outputs": [
    {
     "name": "stdout",
     "output_type": "stream",
     "text": [
      "repr  = ['GRID', 1, 4, -4.5, -7.5, -14.0, 4, '', None]\n",
      "raw   = ['GRID', 1, 4, -4.5, -7.5, -14.0, 4, '', None]\n",
      "repr2 = ['GRID', 1, 4, -4.5, -7.5, -14.0, 4, '', None]\n",
      "$*\n",
      "$*  GRID CARDS\n",
      "$*\n",
      "GRID           1       4    -4.5    -7.5    -14.       4\n",
      "\n",
      "$*\n",
      "$*  GRID CARDS\n",
      "$*\n",
      "GRID           1       4    -4.5    -7.5    -14.       4                \n",
      "\n",
      "$*\n",
      "$*  GRID CARDS\n",
      "$*\n",
      "GRID*                  1               4            -4.5            -7.5\n",
      "*                   -14.               4                                \n",
      "\n",
      "$*\n",
      "$*  GRID CARDS\n",
      "$*\n",
      "GRID*                  1               4-4.500000000D+00-7.500000000D+00\n",
      "*       -1.400000000D+01               4                                \n",
      "\n"
     ]
    }
   ],
   "source": [
    "n1 = bdf_xref.nodes[1]\n",
    "n1.xyz[1] = -7.5\n",
    "print(\"repr  = %s\" % n1.repr_fields())\n",
    "print(\"raw   = %s\" % n1.repr_fields())\n",
    "\n",
    "#n1.xyz[1] = 100000000000.\n",
    "print(\"repr2 = %s\" % n1.repr_fields())\n",
    "print(n1)\n",
    "print(n1.write_card(size=8))\n",
    "print(n1.write_card(size=16, is_double=False))\n",
    "print(n1.write_card(size=16, is_double=True))"
   ]
  },
  {
   "cell_type": "markdown",
   "metadata": {},
   "source": [
    "## Calculating the mass of the structure\n",
    "You can also calculate the mass of individual groups"
   ]
  },
  {
   "cell_type": "code",
   "execution_count": 18,
   "metadata": {},
   "outputs": [
    {
     "name": "stdout",
     "output_type": "stream",
     "text": [
      "mass = 1.70202557344\n"
     ]
    }
   ],
   "source": [
    "mass, cg, I = bdf_xref.mass_properties()\n",
    "print(\"mass = %s\" % mass)"
   ]
  },
  {
   "cell_type": "markdown",
   "metadata": {},
   "source": [
    "### Examples of xref on elements"
   ]
  },
  {
   "cell_type": "code",
   "execution_count": 19,
   "metadata": {
    "scrolled": false
   },
   "outputs": [
    {
     "name": "stdout",
     "output_type": "stream",
     "text": [
      "CQUAD4       100       1     149     152     161     160\n",
      "\n",
      "nodes = [GRID         149       4      3.     7.5   -16.5       4\n",
      ", GRID         152       4     1.5     7.5   -16.5       4\n",
      ", GRID         161       4     1.5     7.5    -14.       4\n",
      ", GRID         160       4      3.     7.5    -14.       4\n",
      "]\n",
      "--node0--\n",
      "GRID         149       4      3.     7.5   -16.5       4\n",
      "\n",
      "--cd--\n",
      "CORD2R         4              0.      0.      0.      0.      0.      1.\n",
      "              1.      0.      0.\n",
      "\n",
      "cd.cid = 4\n",
      "area = 3.75\n",
      "mass = 3.6428803074e-05\n",
      "--pid--\n",
      "$*\n",
      "$*  PROPERTY CARDS\n",
      "$*\n",
      "$*\n",
      "$*  I-DEAS property: 1  name: BUS PNL HCMB 2PLY\n",
      "PSHELL         1       6    .036       61415.815       7         3.551-6\n",
      "              .4     -.4\n",
      "\n",
      "pid.pid = 1\n",
      "pid.Pid() = 1\n",
      "$*\n",
      "$*  I-DEAS Material: 6  name: BUS_CFRP_PW_ORTHO\n",
      "$* M46J PW ETW\n",
      "MAT8           6   1.7+7   1.7+7     .98 340000. 180000. 180000..0001712\n",
      "                           71.33\n",
      "\n",
      "type = MAT8\n",
      "nu12 = 0.98\n",
      "mass = 3.6428803074e-05\n"
     ]
    }
   ],
   "source": [
    "eid100 = bdf_xref.elements[100]\n",
    "print(eid100)\n",
    "print(\"nodes = %s\" % eid100.nodes)\n",
    "print(\"--node0--\\n%s\" % eid100.nodes[0])\n",
    "print(\"--cd--\\n%s\" % eid100.nodes[0].cd)\n",
    "print(\"cd.cid = %s\" % eid100.nodes[0].cd.cid)\n",
    "\n",
    "print(\"area = %s\" % eid100.Area())\n",
    "print(\"mass = %s\" % eid100.Mass())\n",
    "print(\"--pid--\\n%s\" % eid100.pid)\n",
    "print(\"pid.pid = %s\" % eid100.pid.pid)\n",
    "print(\"pid.Pid() = %s\" % eid100.Pid())\n",
    "\n",
    "print(eid100.pid.mid1)\n",
    "print(\"type = %s\" % eid100.pid.mid1.type)\n",
    "print(\"nu12 = %s\" % eid100.pid.mid1.nu12)\n",
    "print(\"mass = %s\" % eid100.Mass())"
   ]
  },
  {
   "cell_type": "markdown",
   "metadata": {},
   "source": [
    "## Write the modified deck\n",
    "Let's first switch to the desktop to make the file easy to find"
   ]
  },
  {
   "cell_type": "code",
   "execution_count": 20,
   "metadata": {},
   "outputs": [
    {
     "ename": "FileNotFoundError",
     "evalue": "[Errno 2] No such file or directory: 'C:\\\\Users/emanuele/Desktop'",
     "output_type": "error",
     "traceback": [
      "\u001b[0;31m---------------------------------------------------------------------------\u001b[0m",
      "\u001b[0;31mFileNotFoundError\u001b[0m                         Traceback (most recent call last)",
      "\u001b[0;32m<ipython-input-20-b93fd33f4830>\u001b[0m in \u001b[0;36m<module>\u001b[0;34m()\u001b[0m\n\u001b[1;32m      1\u001b[0m \u001b[0;32mimport\u001b[0m \u001b[0mgetpass\u001b[0m\u001b[0;34m\u001b[0m\u001b[0m\n\u001b[1;32m      2\u001b[0m \u001b[0mname\u001b[0m \u001b[0;34m=\u001b[0m \u001b[0mgetpass\u001b[0m\u001b[0;34m.\u001b[0m\u001b[0mgetuser\u001b[0m\u001b[0;34m(\u001b[0m\u001b[0;34m)\u001b[0m\u001b[0;34m\u001b[0m\u001b[0m\n\u001b[0;32m----> 3\u001b[0;31m \u001b[0mos\u001b[0m\u001b[0;34m.\u001b[0m\u001b[0mchdir\u001b[0m\u001b[0;34m(\u001b[0m\u001b[0mos\u001b[0m\u001b[0;34m.\u001b[0m\u001b[0mpath\u001b[0m\u001b[0;34m.\u001b[0m\u001b[0mjoin\u001b[0m\u001b[0;34m(\u001b[0m\u001b[0;34mr'C:\\Users'\u001b[0m\u001b[0;34m,\u001b[0m \u001b[0mname\u001b[0m\u001b[0;34m,\u001b[0m \u001b[0;34m'Desktop'\u001b[0m\u001b[0;34m)\u001b[0m\u001b[0;34m)\u001b[0m\u001b[0;34m\u001b[0m\u001b[0m\n\u001b[0m",
      "\u001b[0;31mFileNotFoundError\u001b[0m: [Errno 2] No such file or directory: 'C:\\\\Users/emanuele/Desktop'"
     ]
    }
   ],
   "source": [
    "import getpass\n",
    "name = getpass.getuser()\n",
    "os.chdir(os.path.join(r'C:\\Users', name, 'Desktop'))"
   ]
  },
  {
   "cell_type": "code",
   "execution_count": 21,
   "metadata": {},
   "outputs": [
    {
     "data": {
      "text/plain": [
       "'/home/workspace/pyNastran/docs/quick_start/demo'"
      ]
     },
     "execution_count": 21,
     "metadata": {},
     "output_type": "execute_result"
    }
   ],
   "source": [
    "pwd"
   ]
  },
  {
   "cell_type": "markdown",
   "metadata": {},
   "source": [
    "There are two ways to write a deck\n",
    " - interspersed : alternate properties and elements (similar to how Patran writes decks)\n",
    " - not-interspersed (default) : much faster\n",
    " \n",
    "We can also use 8 or 16 character field width as well as double precision.\n",
    "\n",
    "Note that double precision only works for certain cards (e.g. GRID, COORD, DMIG) and not much else."
   ]
  },
  {
   "cell_type": "code",
   "execution_count": 22,
   "metadata": {
    "scrolled": false
   },
   "outputs": [
    {
     "name": "stdout",
     "output_type": "stream",
     "text": [
      "DEBUG:   write_mesh.py:187            ---starting BDF.write_bdf of fem.bdf---\n",
      "CORD2R        75        1.355-13-2.19-15    -40.1.355-13-2.19-15      0.\n",
      "             40.-2.19-15    -40.\n",
      "CORD2R        76        1.355-13-2.19-15    -40.1.355-13-2.19-15      0.\n",
      "             40.-2.19-15    -40.\n",
      "ENDDATA\n",
      "DEBUG:   write_mesh.py:187            ---starting BDF.write_bdf of fem.bdf---\n",
      "*\n",
      "CORD2R*               75                 1.3549966049-13-2.1854783949-15\n",
      "*                   -40. 1.3549966049-13-2.1854783949-15              0.\n",
      "*                    40.-2.1854783949-15            -40.\n",
      "*\n",
      "CORD2R*               76                 1.3549966049-13-2.1854783949-15\n",
      "*                   -40. 1.3549966049-13-2.1854783949-15              0.\n",
      "*                    40.-2.1854783949-15            -40.\n",
      "*\n",
      "ENDDATA\n",
      "DEBUG:   write_mesh.py:187            ---starting BDF.write_bdf of fem.bdf---\n",
      "*\n",
      "CORD2R*               75                1.3549966049D-13-2.185478395D-15\n",
      "*       -4.000000000D+011.3549966049D-13-2.185478395D-150.0000000000D+00\n",
      "*       4.0000000000D+01-2.185478395D-15-4.000000000D+01\n",
      "*\n",
      "CORD2R*               76                1.3549966049D-13-2.185478395D-15\n",
      "*       -4.000000000D+011.3549966049D-13-2.185478395D-150.0000000000D+00\n",
      "*       4.0000000000D+01-2.185478395D-15-4.000000000D+01\n",
      "*\n",
      "ENDDATA\n"
     ]
    }
   ],
   "source": [
    "bdf_xref.write_bdf('fem.bdf', interspersed=False, size=8, is_double=False)\n",
    "!tail -n 5 \"fem.bdf\"\n",
    "\n",
    "bdf_xref.write_bdf('fem.bdf', interspersed=True, size=16, is_double=False)\n",
    "!tail \"fem.bdf\"\n",
    "\n",
    "bdf_xref.write_bdf('fem.bdf', interspersed=True, size=16, is_double=True)\n",
    "!tail \"fem.bdf\""
   ]
  },
  {
   "cell_type": "code",
   "execution_count": 23,
   "metadata": {},
   "outputs": [
    {
     "data": {
      "text/plain": [
       "'/home/workspace/pyNastran/models/iSat/ISat_Launch_Sm_Rgd.dat'"
      ]
     },
     "execution_count": 23,
     "metadata": {},
     "output_type": "execute_result"
    }
   ],
   "source": [
    "bdf_filename"
   ]
  },
  {
   "cell_type": "markdown",
   "metadata": {},
   "source": [
    "## pyNastranGUI"
   ]
  },
  {
   "cell_type": "code",
   "execution_count": 24,
   "metadata": {},
   "outputs": [
    {
     "name": "stdout",
     "output_type": "stream",
     "text": [
      "/home/workspace/pyNastran/models/iSat/ISat_Launch_Sm_Rgd.dat\n"
     ]
    },
    {
     "name": "stderr",
     "output_type": "stream",
     "text": [
      "UsageError: Line magic function `%echo` not found.\n"
     ]
    }
   ],
   "source": [
    "print(bdf_filename)\n",
    "%echo {bdf_filename}\n",
    "#!pyNastranGUI -f nastran -i {bdf_filename}\n",
    "\n",
    "solid_bending_bdf = os.path.abspath(os.path.join(pkg_path, '..', 'models', 'solid_bending', 'solid_bending.bdf'))\n",
    "solid_bending_op2 = os.path.abspath(os.path.join(pkg_path, '..', 'models', 'solid_bending', 'solid_bending.op2'))\n",
    "\n",
    "!pyNastranGUI -f nastran -i {solid_bending_bdf} -o {solid_bending_op2}  > junk.out\n",
    "print(\"done\")"
   ]
  },
  {
   "cell_type": "markdown",
   "metadata": {},
   "source": [
    "# We can also script the GUI!"
   ]
  },
  {
   "cell_type": "code",
   "execution_count": 25,
   "metadata": {
    "scrolled": false
   },
   "outputs": [
    {
     "name": "stdout",
     "output_type": "stream",
     "text": [
      "/home/workspace/pyNastran/docs/quick_start/demo\n",
      "/bin/sh: 1: pyNastranGUI: not found\n",
      "/bin/sh: 1: wireframe_solid_bending.png: not found\n"
     ]
    },
    {
     "ename": "AssertionError",
     "evalue": "",
     "output_type": "error",
     "traceback": [
      "\u001b[0;31m---------------------------------------------------------------------------\u001b[0m",
      "\u001b[0;31mAssertionError\u001b[0m                            Traceback (most recent call last)",
      "\u001b[0;32m<ipython-input-25-48c0e2d4834e>\u001b[0m in \u001b[0;36m<module>\u001b[0;34m()\u001b[0m\n\u001b[1;32m     13\u001b[0m \u001b[0;32mfrom\u001b[0m \u001b[0mIPython\u001b[0m\u001b[0;34m.\u001b[0m\u001b[0mdisplay\u001b[0m \u001b[0;32mimport\u001b[0m \u001b[0mImage\u001b[0m\u001b[0;34m\u001b[0m\u001b[0m\n\u001b[1;32m     14\u001b[0m \u001b[0;32mfrom\u001b[0m \u001b[0mIPython\u001b[0m\u001b[0;34m.\u001b[0m\u001b[0mdisplay\u001b[0m \u001b[0;32mimport\u001b[0m \u001b[0mdisplay\u001b[0m\u001b[0;34m\u001b[0m\u001b[0m\n\u001b[0;32m---> 15\u001b[0;31m \u001b[0;32massert\u001b[0m \u001b[0mos\u001b[0m\u001b[0;34m.\u001b[0m\u001b[0mpath\u001b[0m\u001b[0;34m.\u001b[0m\u001b[0mexists\u001b[0m\u001b[0;34m(\u001b[0m\u001b[0;34m'wireframe_solid_bending.png'\u001b[0m\u001b[0;34m)\u001b[0m\u001b[0;34m\u001b[0m\u001b[0m\n\u001b[0m\u001b[1;32m     16\u001b[0m \u001b[0;34m\u001b[0m\u001b[0m\n\u001b[1;32m     17\u001b[0m \u001b[0;31m# display in iPython\u001b[0m\u001b[0;34m\u001b[0m\u001b[0;34m\u001b[0m\u001b[0m\n",
      "\u001b[0;31mAssertionError\u001b[0m: "
     ]
    }
   ],
   "source": [
    "with open('script.py', 'w') as f:\n",
    "    f.write('self.on_wireframe()\\n')\n",
    "    picture_filename = os.path.join(os.getcwd(), 'wireframe_solid_bending.png')\n",
    "    f.write(\"self.on_take_screenshot(%r)\\n\" % picture_filename)\n",
    "    f.write('sys.exit()')\n",
    "\n",
    "!pwd\n",
    "!pyNastranGUI -f nastran -i {solid_bending_bdf} -o {solid_bending_op2} --postscript script.py > junk.out\n",
    "\n",
    "# display in a popup\n",
    "!wireframe_solid_bending.png\n",
    "\n",
    "from IPython.display import Image\n",
    "from IPython.display import display\n",
    "assert os.path.exists('wireframe_solid_bending.png')\n",
    "\n",
    "# display in iPython\n",
    "i = Image(filename='wireframe_solid_bending.png')\n",
    "display(i)\n",
    "print(\"the picture is visible\")"
   ]
  },
  {
   "cell_type": "code",
   "execution_count": null,
   "metadata": {},
   "outputs": [],
   "source": []
  },
  {
   "cell_type": "code",
   "execution_count": null,
   "metadata": {},
   "outputs": [],
   "source": []
  },
  {
   "cell_type": "code",
   "execution_count": null,
   "metadata": {},
   "outputs": [],
   "source": []
  }
 ],
 "metadata": {
  "kernelspec": {
   "display_name": "Python 3.6",
   "language": "python",
   "name": "py36"
  }
 },
 "nbformat": 4,
 "nbformat_minor": 1
}
