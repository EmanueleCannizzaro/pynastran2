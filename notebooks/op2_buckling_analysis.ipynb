{
 "cells": [
  {
   "cell_type": "markdown",
   "metadata": {},
   "source": [
    "# PyNastran - Buckling Analysis"
   ]
  },
  {
   "cell_type": "markdown",
   "metadata": {},
   "source": [
    "The iPython notebook for this demo can be found in:\n",
    "   - docs\\quick_start\\demo\\op2_pandas_multi_case.ipynb\n",
    "   - https://github.com/SteveDoyle2/pyNastran/tree/master/docs/quick_start/demo/op2_pandas_multi_case.ipynb"
   ]
  },
  {
   "cell_type": "code",
   "execution_count": 1,
   "metadata": {},
   "outputs": [],
   "source": [
    "import sys\n",
    "import os\n",
    "LIBRARIES = ['../../../', '../../../../humanfriendly', '../../../../tabulate']\n",
    "for lib in LIBRARIES:\n",
    "    if not os.path.exists(lib) :\n",
    "        print('The specified libray path does not exists.')\n",
    "        sys.exit(1)\n",
    "    if os.path.abspath(lib) not in sys.path:\n",
    "        sys.path.append(os.path.abspath(lib))\n",
    "import humanfriendly\n",
    "#import tabulate\n",
    "from tabulate import tabulate\n",
    "import pyNastran"
   ]
  },
  {
   "cell_type": "code",
   "execution_count": 2,
   "metadata": {
    "scrolled": false
   },
   "outputs": [],
   "source": [
    "import glob\n",
    "\n",
    "import numpy as np\n",
    "np.set_printoptions(formatter={'all':lambda x: '%g'})\n",
    "\n",
    "import pandas as pd\n",
    "# Sets default precision of real numbers for pandas output\\n\"\n",
    "pd.set_option('precision', 2)\n",
    "\n",
    "from IPython.core.display import display, HTML\n",
    "\n",
    "from pyNastran.op2.op2 import read_op2\n",
    "\n",
    "pkg_path = pyNastran.__path__[0]\n",
    "model_path = os.path.join(pkg_path, '..', 'models')"
   ]
  },
  {
   "cell_type": "code",
   "execution_count": 4,
   "metadata": {},
   "outputs": [
    {
     "name": "stdout",
     "output_type": "stream",
     "text": [
      "Size of the example file is 178.57 KiB.\n"
     ]
    }
   ],
   "source": [
    "OP2_fname = glob.glob(os.path.join('..', '..', '..', 'data', '*buckling*.op2'))[1]\n",
    "#Returns real size of file in bytes\n",
    "print('Size of the example file is %s.' %humanfriendly.format_size(os.path.getsize(OP2_fname), binary=True))\n",
    "#print(humanfriendly.format_size(os.stat(OP2_fname).st_size, binary=True))"
   ]
  },
  {
   "cell_type": "code",
   "execution_count": 5,
   "metadata": {},
   "outputs": [],
   "source": [
    "#read_op2?\n",
    "#dir(tabulate)"
   ]
  },
  {
   "cell_type": "markdown",
   "metadata": {
    "collapsed": true
   },
   "source": [
    "Let's show off ``combine=True/False``.  We'll talk about the keys soon."
   ]
  },
  {
   "cell_type": "code",
   "execution_count": 6,
   "metadata": {},
   "outputs": [],
   "source": [
    "DISPLACEMENTS_HEADER = ['ID','SUB ID', 'SUB SUB ID', 'Description']"
   ]
  },
  {
   "cell_type": "code",
   "execution_count": 7,
   "metadata": {},
   "outputs": [
    {
     "name": "stdout",
     "output_type": "stream",
     "text": [
      "INFO:    op2_scalar.py:1173           op2_filename = '../../../data/buckling_solid_shell_bar.op2'\n"
     ]
    }
   ],
   "source": [
    "#%%timeit\n",
    "result = read_op2(OP2_fname, combine=True, debug=False, build_dataframe=True)"
   ]
  },
  {
   "cell_type": "code",
   "execution_count": 8,
   "metadata": {},
   "outputs": [
    {
     "name": "stdout",
     "output_type": "stream",
     "text": [
      "displacements[(1, 1, 1, 0, 'DEFAULT1')]\n",
      "eigenvectors[(1, 8, 1, 0, 'DEFAULT1')]\n",
      "spc_forces[(1, 1, 1, 0, 'DEFAULT1')]\n",
      "spc_forces[(1, 8, 1, 0, 'DEFAULT1')]\n",
      "mpc_forces[(1, 1, 1, 0, 'DEFAULT1')]\n",
      "grid_point_forces[(1, 1, 1, 0, 'DEFAULT1')]\n",
      "grid_point_forces[(1, 2, 1, 0, 'DEFAULT1')]\n",
      "load_vectors[(1, 1, 1, 0, 'DEFAULT1')]\n",
      "crod_stress[(1, 1, 1, 0, 'DEFAULT1')]\n",
      "crod_stress[(1, 8, 1, 0, 'DEFAULT1')]\n",
      "crod_strain[(1, 1, 1, 0, 'DEFAULT1')]\n",
      "crod_strain[(1, 8, 1, 0, 'DEFAULT1')]\n",
      "cbar_stress[(1, 1, 1, 0, 'DEFAULT1')]\n",
      "cbar_stress[(1, 8, 1, 0, 'DEFAULT1')]\n",
      "cbar_strain[(1, 1, 1, 0, 'DEFAULT1')]\n",
      "cbar_strain[(1, 8, 1, 0, 'DEFAULT1')]\n",
      "cbar_force[(1, 1, 1, 0, 'DEFAULT1')]\n",
      "cbar_force[(1, 8, 1, 0, 'DEFAULT1')]\n",
      "cbeam_stress[(1, 1, 1, 0, 'DEFAULT1')]\n",
      "cbeam_stress[(1, 8, 1, 0, 'DEFAULT1')]\n",
      "cbeam_strain[(1, 1, 1, 0, 'DEFAULT1')]\n",
      "cbeam_strain[(1, 8, 1, 0, 'DEFAULT1')]\n",
      "cbeam_force[(1, 1, 1, 0, 'DEFAULT1')]\n",
      "cbeam_force[(1, 8, 1, 0, 'DEFAULT1')]\n",
      "ctria3_stress[(1, 1, 1, 0, 'DEFAULT1')]\n",
      "ctria3_stress[(1, 8, 1, 0, 'DEFAULT1')]\n",
      "cquad4_stress[(1, 1, 1, 0, 'DEFAULT1')]\n",
      "cquad4_stress[(1, 8, 1, 0, 'DEFAULT1')]\n",
      "ctria3_strain[(1, 1, 1, 0, 'DEFAULT1')]\n",
      "ctria3_strain[(1, 8, 1, 0, 'DEFAULT1')]\n",
      "cquad4_strain[(1, 1, 1, 0, 'DEFAULT1')]\n",
      "cquad4_strain[(1, 8, 1, 0, 'DEFAULT1')]\n",
      "ctetra_stress[(1, 1, 1, 0, 'DEFAULT1')]\n",
      "ctetra_stress[(1, 8, 1, 0, 'DEFAULT1')]\n",
      "chexa_stress[(1, 1, 1, 0, 'DEFAULT1')]\n",
      "chexa_stress[(1, 8, 1, 0, 'DEFAULT1')]\n",
      "cpenta_stress[(1, 1, 1, 0, 'DEFAULT1')]\n",
      "cpenta_stress[(1, 8, 1, 0, 'DEFAULT1')]\n",
      "ctetra_strain[(1, 1, 1, 0, 'DEFAULT1')]\n",
      "ctetra_strain[(1, 8, 1, 0, 'DEFAULT1')]\n",
      "chexa_strain[(1, 1, 1, 0, 'DEFAULT1')]\n",
      "chexa_strain[(1, 8, 1, 0, 'DEFAULT1')]\n",
      "cpenta_strain[(1, 1, 1, 0, 'DEFAULT1')]\n",
      "cpenta_strain[(1, 8, 1, 0, 'DEFAULT1')]\n",
      "crod_force[(1, 1, 1, 0, 'DEFAULT1')]\n",
      "crod_force[(1, 8, 1, 0, 'DEFAULT1')]\n",
      "cquad4_force[(1, 1, 1, 0, 'DEFAULT1')]\n",
      "cquad4_force[(1, 8, 1, 0, 'DEFAULT1')]\n",
      "ctria3_force[(1, 1, 1, 0, 'DEFAULT1')]\n",
      "ctria3_force[(1, 8, 1, 0, 'DEFAULT1')]\n",
      "cquad4_composite_stress[(1, 1, 1, 0, 'DEFAULT1')]\n",
      "ctria3_composite_stress[(1, 1, 1, 0, 'DEFAULT1')]\n",
      "cquad4_composite_strain[(1, 1, 1, 0, 'DEFAULT1')]\n",
      "ctria3_composite_strain[(1, 1, 1, 0, 'DEFAULT1')]\n",
      "\n"
     ]
    }
   ],
   "source": [
    "print(result.get_op2_stats(short=True))"
   ]
  },
  {
   "cell_type": "code",
   "execution_count": null,
   "metadata": {},
   "outputs": [],
   "source": [
    "display(HTML(tabulate.tabulate(result.displacements.keys(), headers=DISPLACEMENTS_HEADER, tablefmt='html')))"
   ]
  },
  {
   "cell_type": "code",
   "execution_count": null,
   "metadata": {},
   "outputs": [],
   "source": [
    "display(HTML(tabulate.tabulate(result.spc_forces.keys(), headers=DISPLACEMENTS_HEADER, tablefmt='html')))"
   ]
  },
  {
   "cell_type": "code",
   "execution_count": null,
   "metadata": {},
   "outputs": [],
   "source": [
    "display(HTML(tabulate.tabulate(result.load_vectors.keys(), headers=DISPLACEMENTS_HEADER, tablefmt='html')))"
   ]
  },
  {
   "cell_type": "code",
   "execution_count": 9,
   "metadata": {},
   "outputs": [
    {
     "data": {
      "text/html": [
       "<table>\n",
       "<thead>\n",
       "<tr><th style=\"text-align: right;\">  </th><th style=\"text-align: right;\">  ID</th><th style=\"text-align: right;\">  SUB ID</th><th style=\"text-align: right;\">  SUB SUB ID</th><th>Description  </th></tr>\n",
       "</thead>\n",
       "<tbody>\n",
       "<tr><td style=\"text-align: right;\"> 1</td><td style=\"text-align: right;\">   1</td><td style=\"text-align: right;\">       1</td><td style=\"text-align: right;\">           0</td><td>DEFAULT1     </td></tr>\n",
       "<tr><td style=\"text-align: right;\"> 1</td><td style=\"text-align: right;\">   8</td><td style=\"text-align: right;\">       1</td><td style=\"text-align: right;\">           0</td><td>DEFAULT1     </td></tr>\n",
       "</tbody>\n",
       "</table>"
      ],
      "text/plain": [
       "<IPython.core.display.HTML object>"
      ]
     },
     "metadata": {},
     "output_type": "display_data"
    }
   ],
   "source": [
    "display(HTML(tabulate.tabulate(result.cquad4_stress.keys(), headers=DISPLACEMENTS_HEADER, tablefmt='html')))"
   ]
  },
  {
   "cell_type": "markdown",
   "metadata": {},
   "source": [
    "## Single Subcase Buckling Example"
   ]
  },
  {
   "cell_type": "markdown",
   "metadata": {},
   "source": [
    "The keys cannot be \"combined\" despite us telling the program that it was OK.\n",
    "We'll get the following values that we need to handle.\n",
    "#### isubcase, analysis_code, sort_method, count, subtitle\n",
    " * isubcase -> the same key that you're used to accessing\n",
    " * sort_method -> 1 (SORT1), 2 (SORT2)\n",
    " * count -> the optimization count\n",
    " * subtitle -> the analysis subtitle (changes for superlements)\n",
    " * analysis code -> the \"type\" of solution "
   ]
  },
  {
   "cell_type": "markdown",
   "metadata": {},
   "source": [
    " ### Partial code for calculating analysis code:\n",
    " \n",
    "       if trans_word == 'LOAD STEP':  # nonlinear statics\n",
    "          analysis_code = 10\n",
    "      elif trans_word in ['TIME', 'TIME STEP']:  # TODO check name\n",
    "          analysis_code = 6\n",
    "      elif trans_word == 'EIGENVALUE':  # normal modes\n",
    "          analysis_code = 2\n",
    "      elif trans_word == 'FREQ':  # TODO check name\n",
    "          analysis_code = 5\n",
    "      elif trans_word == 'FREQUENCY':\n",
    "          analysis_code = 5\n",
    "      elif trans_word == 'COMPLEX EIGENVALUE':\n",
    "          analysis_code = 9\n",
    "      else:\n",
    "          raise NotImplementedError('transient_word=%r is not supported...' % trans_word)\n",
    "\n",
    " "
   ]
  },
  {
   "cell_type": "markdown",
   "metadata": {},
   "source": [
    "### Let's look at an odd case:\n",
    "\n",
    "You can do buckling as one subcase or two subcases (makes parsing it a lot easier!).\n",
    "\n",
    "However, you **have** to do this once you start messing around with superelements or multi-step optimization.\n",
    "\n",
    "For optimization, sometimes Nastran will downselect elements and do an optimization on that and print out a subset of the elements.\n",
    "At the end, it will rerun an analysis to double check the constraints are satisfied.\n",
    "It does not always do multi-step optimization."
   ]
  },
  {
   "cell_type": "code",
   "execution_count": 23,
   "metadata": {
    "scrolled": false
   },
   "outputs": [
    {
     "name": "stdout",
     "output_type": "stream",
     "text": [
      "[(1, 1, 1, 0, 'DEFAULT1'), (1, 8, 1, 0, 'DEFAULT1')]\n"
     ]
    }
   ],
   "source": [
    "stress_keys = list(result.cquad4_stress.keys())\n",
    "print(stress_keys)"
   ]
  },
  {
   "cell_type": "markdown",
   "metadata": {},
   "source": [
    "Similarly:\n",
    " * Transient solutions can have preload\n",
    " * Frequency solutions can have loadsets (???)"
   ]
  },
  {
   "cell_type": "markdown",
   "metadata": {},
   "source": [
    "## Moving onto the data frames\n",
    " * The static case is the initial deflection state\n",
    " * The buckling case is \"transient\", where the modes (called load steps or lsdvmn here) represent the \"times\"\n",
    " \n",
    "pyNastran reads these tables differently and handles them differently internally.  They look very similar though."
   ]
  },
  {
   "cell_type": "code",
   "execution_count": 18,
   "metadata": {
    "scrolled": false
   },
   "outputs": [
    {
     "name": "stdout",
     "output_type": "stream",
     "text": [
      "stress_static.nonlinear_factor = None\n",
      "stress_transient.nonlinear_factor = 4\n",
      "data_names  = ['lsdvmn', 'eigr']\n",
      "loadsteps   = [1, 2, 3, 4]\n",
      "eigenvalues = [-49357660160.0, -58001940480.0, -379750744064.0, -428462538752.0]\n"
     ]
    }
   ],
   "source": [
    "stress_static = result.cquad4_stress[stress_keys[0]].data_frame\n",
    "stress_transient = result.cquad4_stress[stress_keys[1]].data_frame\n",
    "\n",
    "# The final calculated factor:\n",
    "#   Is it a None or not?\n",
    "# This defines if it's static or transient\n",
    "print('stress_static.nonlinear_factor = %s' % result.cquad4_stress[key0].nonlinear_factor)\n",
    "print('stress_transient.nonlinear_factor = %s' % result.cquad4_stress[key1].nonlinear_factor)\n",
    "\n",
    "print('data_names  = %s' % result.cquad4_stress[key1].data_names)\n",
    "print('loadsteps   = %s' % result.cquad4_stress[key1].lsdvmns)\n",
    "print('eigenvalues = %s' % result.cquad4_stress[key1].eigrs)"
   ]
  },
  {
   "cell_type": "markdown",
   "metadata": {},
   "source": [
    "## Static Table"
   ]
  },
  {
   "cell_type": "code",
   "execution_count": 21,
   "metadata": {
    "scrolled": false
   },
   "outputs": [
    {
     "data": {
      "text/html": [
       "<div>\n",
       "<style>\n",
       "    .dataframe thead tr:only-child th {\n",
       "        text-align: right;\n",
       "    }\n",
       "\n",
       "    .dataframe thead th {\n",
       "        text-align: left;\n",
       "    }\n",
       "\n",
       "    .dataframe tbody tr th {\n",
       "        vertical-align: top;\n",
       "    }\n",
       "</style>\n",
       "<table border=\"1\" class=\"dataframe\">\n",
       "  <thead>\n",
       "    <tr style=\"text-align: right;\">\n",
       "      <th></th>\n",
       "      <th></th>\n",
       "      <th></th>\n",
       "      <th>index</th>\n",
       "      <th>fiber_distance</th>\n",
       "      <th>oxx</th>\n",
       "      <th>oyy</th>\n",
       "      <th>txy</th>\n",
       "      <th>angle</th>\n",
       "      <th>omax</th>\n",
       "      <th>omin</th>\n",
       "      <th>von_mises</th>\n",
       "    </tr>\n",
       "    <tr>\n",
       "      <th>ElementID</th>\n",
       "      <th>NodeID</th>\n",
       "      <th>Location</th>\n",
       "      <th></th>\n",
       "      <th></th>\n",
       "      <th></th>\n",
       "      <th></th>\n",
       "      <th></th>\n",
       "      <th></th>\n",
       "      <th></th>\n",
       "      <th></th>\n",
       "      <th></th>\n",
       "    </tr>\n",
       "  </thead>\n",
       "  <tbody>\n",
       "    <tr>\n",
       "      <th rowspan=\"10\" valign=\"top\">6</th>\n",
       "      <th rowspan=\"2\" valign=\"top\">CEN</th>\n",
       "      <th>Top</th>\n",
       "      <td>0</td>\n",
       "      <td>-0.12</td>\n",
       "      <td>5.85e-07</td>\n",
       "      <td>9.73e-06</td>\n",
       "      <td>-1.36e-07</td>\n",
       "      <td>-89.15</td>\n",
       "      <td>9.73e-06</td>\n",
       "      <td>5.83e-07</td>\n",
       "      <td>9.46e-06</td>\n",
       "    </tr>\n",
       "    <tr>\n",
       "      <th>Bottom</th>\n",
       "      <td>1</td>\n",
       "      <td>0.12</td>\n",
       "      <td>4.71e-07</td>\n",
       "      <td>9.44e-06</td>\n",
       "      <td>-1.61e-07</td>\n",
       "      <td>-88.97</td>\n",
       "      <td>9.44e-06</td>\n",
       "      <td>4.69e-07</td>\n",
       "      <td>9.21e-06</td>\n",
       "    </tr>\n",
       "    <tr>\n",
       "      <th rowspan=\"2\" valign=\"top\">4</th>\n",
       "      <th>Top</th>\n",
       "      <td>2</td>\n",
       "      <td>-0.12</td>\n",
       "      <td>-6.50e-07</td>\n",
       "      <td>9.48e-06</td>\n",
       "      <td>-1.36e-07</td>\n",
       "      <td>-89.23</td>\n",
       "      <td>9.48e-06</td>\n",
       "      <td>-6.52e-07</td>\n",
       "      <td>9.82e-06</td>\n",
       "    </tr>\n",
       "    <tr>\n",
       "      <th>Bottom</th>\n",
       "      <td>3</td>\n",
       "      <td>0.12</td>\n",
       "      <td>-8.37e-07</td>\n",
       "      <td>9.11e-06</td>\n",
       "      <td>-1.61e-07</td>\n",
       "      <td>-89.08</td>\n",
       "      <td>9.12e-06</td>\n",
       "      <td>-8.39e-07</td>\n",
       "      <td>9.56e-06</td>\n",
       "    </tr>\n",
       "    <tr>\n",
       "      <th rowspan=\"2\" valign=\"top\">1</th>\n",
       "      <th>Top</th>\n",
       "      <td>4</td>\n",
       "      <td>-0.12</td>\n",
       "      <td>-6.50e-07</td>\n",
       "      <td>9.98e-06</td>\n",
       "      <td>-1.36e-07</td>\n",
       "      <td>-89.27</td>\n",
       "      <td>9.99e-06</td>\n",
       "      <td>-6.51e-07</td>\n",
       "      <td>1.03e-05</td>\n",
       "    </tr>\n",
       "    <tr>\n",
       "      <th>Bottom</th>\n",
       "      <td>5</td>\n",
       "      <td>0.12</td>\n",
       "      <td>-8.37e-07</td>\n",
       "      <td>9.76e-06</td>\n",
       "      <td>-1.61e-07</td>\n",
       "      <td>-89.13</td>\n",
       "      <td>9.76e-06</td>\n",
       "      <td>-8.39e-07</td>\n",
       "      <td>1.02e-05</td>\n",
       "    </tr>\n",
       "    <tr>\n",
       "      <th rowspan=\"2\" valign=\"top\">14</th>\n",
       "      <th>Top</th>\n",
       "      <td>6</td>\n",
       "      <td>-0.12</td>\n",
       "      <td>1.82e-06</td>\n",
       "      <td>9.98e-06</td>\n",
       "      <td>-1.36e-07</td>\n",
       "      <td>-89.05</td>\n",
       "      <td>9.99e-06</td>\n",
       "      <td>1.82e-06</td>\n",
       "      <td>9.21e-06</td>\n",
       "    </tr>\n",
       "    <tr>\n",
       "      <th>Bottom</th>\n",
       "      <td>7</td>\n",
       "      <td>0.12</td>\n",
       "      <td>1.78e-06</td>\n",
       "      <td>9.76e-06</td>\n",
       "      <td>-1.61e-07</td>\n",
       "      <td>-88.85</td>\n",
       "      <td>9.76e-06</td>\n",
       "      <td>1.78e-06</td>\n",
       "      <td>9.01e-06</td>\n",
       "    </tr>\n",
       "    <tr>\n",
       "      <th rowspan=\"2\" valign=\"top\">15</th>\n",
       "      <th>Top</th>\n",
       "      <td>8</td>\n",
       "      <td>-0.12</td>\n",
       "      <td>1.82e-06</td>\n",
       "      <td>9.48e-06</td>\n",
       "      <td>-1.36e-07</td>\n",
       "      <td>-88.98</td>\n",
       "      <td>9.48e-06</td>\n",
       "      <td>1.82e-06</td>\n",
       "      <td>8.72e-06</td>\n",
       "    </tr>\n",
       "    <tr>\n",
       "      <th>Bottom</th>\n",
       "      <td>9</td>\n",
       "      <td>0.12</td>\n",
       "      <td>1.78e-06</td>\n",
       "      <td>9.11e-06</td>\n",
       "      <td>-1.61e-07</td>\n",
       "      <td>-88.75</td>\n",
       "      <td>9.12e-06</td>\n",
       "      <td>1.78e-06</td>\n",
       "      <td>8.37e-06</td>\n",
       "    </tr>\n",
       "  </tbody>\n",
       "</table>\n",
       "</div>"
      ],
      "text/plain": [
       "                           index  fiber_distance       oxx       oyy  \\\n",
       "ElementID NodeID Location                                              \n",
       "6         CEN    Top           0           -0.12  5.85e-07  9.73e-06   \n",
       "                 Bottom        1            0.12  4.71e-07  9.44e-06   \n",
       "          4      Top           2           -0.12 -6.50e-07  9.48e-06   \n",
       "                 Bottom        3            0.12 -8.37e-07  9.11e-06   \n",
       "          1      Top           4           -0.12 -6.50e-07  9.98e-06   \n",
       "                 Bottom        5            0.12 -8.37e-07  9.76e-06   \n",
       "          14     Top           6           -0.12  1.82e-06  9.98e-06   \n",
       "                 Bottom        7            0.12  1.78e-06  9.76e-06   \n",
       "          15     Top           8           -0.12  1.82e-06  9.48e-06   \n",
       "                 Bottom        9            0.12  1.78e-06  9.11e-06   \n",
       "\n",
       "                                txy  angle      omax      omin  von_mises  \n",
       "ElementID NodeID Location                                                  \n",
       "6         CEN    Top      -1.36e-07 -89.15  9.73e-06  5.83e-07   9.46e-06  \n",
       "                 Bottom   -1.61e-07 -88.97  9.44e-06  4.69e-07   9.21e-06  \n",
       "          4      Top      -1.36e-07 -89.23  9.48e-06 -6.52e-07   9.82e-06  \n",
       "                 Bottom   -1.61e-07 -89.08  9.12e-06 -8.39e-07   9.56e-06  \n",
       "          1      Top      -1.36e-07 -89.27  9.99e-06 -6.51e-07   1.03e-05  \n",
       "                 Bottom   -1.61e-07 -89.13  9.76e-06 -8.39e-07   1.02e-05  \n",
       "          14     Top      -1.36e-07 -89.05  9.99e-06  1.82e-06   9.21e-06  \n",
       "                 Bottom   -1.61e-07 -88.85  9.76e-06  1.78e-06   9.01e-06  \n",
       "          15     Top      -1.36e-07 -88.98  9.48e-06  1.82e-06   8.72e-06  \n",
       "                 Bottom   -1.61e-07 -88.75  9.12e-06  1.78e-06   8.37e-06  "
      ]
     },
     "execution_count": 21,
     "metadata": {},
     "output_type": "execute_result"
    }
   ],
   "source": [
    "stress_static.head(10)"
   ]
  },
  {
   "cell_type": "markdown",
   "metadata": {},
   "source": [
    "## Transient Table"
   ]
  },
  {
   "cell_type": "code",
   "execution_count": 22,
   "metadata": {},
   "outputs": [
    {
     "data": {
      "text/html": [
       "<div>\n",
       "<style>\n",
       "    .dataframe thead tr:only-child th {\n",
       "        text-align: right;\n",
       "    }\n",
       "\n",
       "    .dataframe thead th {\n",
       "        text-align: left;\n",
       "    }\n",
       "\n",
       "    .dataframe tbody tr th {\n",
       "        vertical-align: top;\n",
       "    }\n",
       "</style>\n",
       "<table border=\"1\" class=\"dataframe\">\n",
       "  <thead>\n",
       "    <tr>\n",
       "      <th></th>\n",
       "      <th></th>\n",
       "      <th>LoadStep</th>\n",
       "      <th>Item</th>\n",
       "      <th>1</th>\n",
       "      <th>2</th>\n",
       "      <th>3</th>\n",
       "      <th>4</th>\n",
       "    </tr>\n",
       "    <tr>\n",
       "      <th></th>\n",
       "      <th></th>\n",
       "      <th>EigenvalueReal</th>\n",
       "      <th></th>\n",
       "      <th>-49357660160.0</th>\n",
       "      <th>-58001940480.0</th>\n",
       "      <th>-379750744064.0</th>\n",
       "      <th>-428462538752.0</th>\n",
       "    </tr>\n",
       "    <tr>\n",
       "      <th>ElementID</th>\n",
       "      <th>NodeID</th>\n",
       "      <th>Location</th>\n",
       "      <th></th>\n",
       "      <th></th>\n",
       "      <th></th>\n",
       "      <th></th>\n",
       "      <th></th>\n",
       "    </tr>\n",
       "  </thead>\n",
       "  <tbody>\n",
       "    <tr>\n",
       "      <th rowspan=\"10\" valign=\"top\">6</th>\n",
       "      <th rowspan=\"10\" valign=\"top\">CEN</th>\n",
       "      <th>Top</th>\n",
       "      <td>fiber_distance</td>\n",
       "      <td>-0.12</td>\n",
       "      <td>-1.25e-01</td>\n",
       "      <td>-1.25e-01</td>\n",
       "      <td>-1.25e-01</td>\n",
       "    </tr>\n",
       "    <tr>\n",
       "      <th>Top</th>\n",
       "      <td>oxx</td>\n",
       "      <td>-36570.46</td>\n",
       "      <td>-1.59e+05</td>\n",
       "      <td>-1.50e+05</td>\n",
       "      <td>1.07e+06</td>\n",
       "    </tr>\n",
       "    <tr>\n",
       "      <th>Top</th>\n",
       "      <td>oyy</td>\n",
       "      <td>206374.97</td>\n",
       "      <td>1.08e+06</td>\n",
       "      <td>4.03e+05</td>\n",
       "      <td>6.16e+06</td>\n",
       "    </tr>\n",
       "    <tr>\n",
       "      <th>Top</th>\n",
       "      <td>txy</td>\n",
       "      <td>229.65</td>\n",
       "      <td>-1.27e+04</td>\n",
       "      <td>4.39e+06</td>\n",
       "      <td>-3.57e+05</td>\n",
       "    </tr>\n",
       "    <tr>\n",
       "      <th>Top</th>\n",
       "      <td>angle</td>\n",
       "      <td>89.95</td>\n",
       "      <td>-8.94e+01</td>\n",
       "      <td>4.68e+01</td>\n",
       "      <td>-8.60e+01</td>\n",
       "    </tr>\n",
       "    <tr>\n",
       "      <th>Top</th>\n",
       "      <td>omax</td>\n",
       "      <td>206375.19</td>\n",
       "      <td>1.08e+06</td>\n",
       "      <td>4.53e+06</td>\n",
       "      <td>6.18e+06</td>\n",
       "    </tr>\n",
       "    <tr>\n",
       "      <th>Top</th>\n",
       "      <td>omin</td>\n",
       "      <td>-36570.67</td>\n",
       "      <td>-1.59e+05</td>\n",
       "      <td>-4.28e+06</td>\n",
       "      <td>1.04e+06</td>\n",
       "    </tr>\n",
       "    <tr>\n",
       "      <th>Top</th>\n",
       "      <td>von_mises</td>\n",
       "      <td>226881.94</td>\n",
       "      <td>1.17e+06</td>\n",
       "      <td>7.63e+06</td>\n",
       "      <td>5.73e+06</td>\n",
       "    </tr>\n",
       "    <tr>\n",
       "      <th>Bottom</th>\n",
       "      <td>fiber_distance</td>\n",
       "      <td>0.12</td>\n",
       "      <td>1.25e-01</td>\n",
       "      <td>1.25e-01</td>\n",
       "      <td>1.25e-01</td>\n",
       "    </tr>\n",
       "    <tr>\n",
       "      <th>Bottom</th>\n",
       "      <td>oxx</td>\n",
       "      <td>-28156.80</td>\n",
       "      <td>-9.56e+04</td>\n",
       "      <td>-1.94e+05</td>\n",
       "      <td>-4.88e+05</td>\n",
       "    </tr>\n",
       "  </tbody>\n",
       "</table>\n",
       "</div>"
      ],
      "text/plain": [
       "LoadStep                             Item              1              2  \\\n",
       "EigenvalueReal                            -49357660160.0 -58001940480.0   \n",
       "ElementID NodeID Location                                                 \n",
       "6         CEN    Top       fiber_distance          -0.12      -1.25e-01   \n",
       "                 Top                  oxx      -36570.46      -1.59e+05   \n",
       "                 Top                  oyy      206374.97       1.08e+06   \n",
       "                 Top                  txy         229.65      -1.27e+04   \n",
       "                 Top                angle          89.95      -8.94e+01   \n",
       "                 Top                 omax      206375.19       1.08e+06   \n",
       "                 Top                 omin      -36570.67      -1.59e+05   \n",
       "                 Top            von_mises      226881.94       1.17e+06   \n",
       "                 Bottom    fiber_distance           0.12       1.25e-01   \n",
       "                 Bottom               oxx      -28156.80      -9.56e+04   \n",
       "\n",
       "LoadStep                                3               4  \n",
       "EigenvalueReal            -379750744064.0 -428462538752.0  \n",
       "ElementID NodeID Location                                  \n",
       "6         CEN    Top            -1.25e-01       -1.25e-01  \n",
       "                 Top            -1.50e+05        1.07e+06  \n",
       "                 Top             4.03e+05        6.16e+06  \n",
       "                 Top             4.39e+06       -3.57e+05  \n",
       "                 Top             4.68e+01       -8.60e+01  \n",
       "                 Top             4.53e+06        6.18e+06  \n",
       "                 Top            -4.28e+06        1.04e+06  \n",
       "                 Top             7.63e+06        5.73e+06  \n",
       "                 Bottom          1.25e-01        1.25e-01  \n",
       "                 Bottom         -1.94e+05       -4.88e+05  "
      ]
     },
     "execution_count": 22,
     "metadata": {},
     "output_type": "execute_result"
    }
   ],
   "source": [
    "stress_transient.head(10)"
   ]
  },
  {
   "cell_type": "code",
   "execution_count": null,
   "metadata": {},
   "outputs": [],
   "source": []
  },
  {
   "cell_type": "code",
   "execution_count": null,
   "metadata": {},
   "outputs": [],
   "source": []
  }
 ],
 "metadata": {
  "kernelspec": {
   "display_name": "Python 3.6",
   "language": "python",
   "name": "py36"
  },
  "language_info": {
   "codemirror_mode": {
    "name": "ipython",
    "version": 3
   },
   "file_extension": ".py",
   "mimetype": "text/x-python",
   "name": "python",
   "nbconvert_exporter": "python",
   "pygments_lexer": "ipython3",
   "version": "3.6.3"
  }
 },
 "nbformat": 4,
 "nbformat_minor": 1
}
