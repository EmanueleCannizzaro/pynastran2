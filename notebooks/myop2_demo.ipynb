{
 "cells": [
  {
   "cell_type": "markdown",
   "metadata": {},
   "source": [
    "# OP2 Demo\n",
    "\n",
    "Most people are comfortable with the F06.  However, it's:\n",
    " - a lot harder to parse\n",
    " - much, much, much slower\n",
    " - much, much more memory inefficient\n",
    "\n",
    "The pyNastran OP2 Reader is fast, highly validated, and it supports most result types.\n",
    "\n",
    "## Validating an OP2\n",
    "\n",
    "The ```test_op2``` script is created when you run ```python setup.py develop``` or ```python setup.py install``` on pyNastran.  Assuming it's on your path (it'll be in Python27\\Scripts or something similar), you can run:\n",
    "\n",
    "```\n",
    ">>> test_op2 -f solid_bending.op2\n",
    "```\n",
    "The ```-f``` tells us to print out ```solid_bending.test_op2.f06```, which can be compared to your F06 for a small file to build confidence in the reader.  It's also useful when you want an F06 of your model without rerunning Nastran just to see what's in it.\n",
    "\n",
    "If you have a large model, you can make ```test_op2``` run much, much faster.  The ```-c``` flag disables double-reading of the OP2.  By default, ```test_op2``` uses two different read methods (the old method and new method) to ensure that results are read in properly.  When running the code, this is turned off, but is turned on for ```test_op2```.\n",
    "```\n",
    ">>> test_op2 -fc solid_bending.op2\n",
    "```\n",
    "\n",
    "## Import the packages"
   ]
  },
  {
   "cell_type": "code",
   "execution_count": 23,
   "metadata": {
    "collapsed": false
   },
   "outputs": [],
   "source": [
    "import os\n",
    "import copy\n",
    "import numpy as np\n",
    "\n",
    "import pyNastran\n",
    "pkg_path = pyNastran.__path__[0]\n",
    "\n",
    "from pyNastran.utils import print_bad_path\n",
    "from pyNastran.op2.op2 import OP2\n",
    "from pyNastran.utils import object_methods, object_attributes\n",
    "\n",
    "import pandas as pd"
   ]
  },
  {
   "cell_type": "markdown",
   "metadata": {},
   "source": [
    "### Sets default precision of real numbers for pandas output\n"
   ]
  },
  {
   "cell_type": "code",
   "execution_count": 24,
   "metadata": {
    "collapsed": false
   },
   "outputs": [],
   "source": [
    "pd.set_option('precision', 3)\n",
    "np.set_printoptions(precision=3, threshold=20)"
   ]
  },
  {
   "cell_type": "markdown",
   "metadata": {},
   "source": [
    "As with the BDF, we can use the long form and the short form.  However, the long form for the ``OP2`` doesn't really add anything.  So, let's just use the short form.\n",
    "\n",
    "Besides massive speed improvements in the OP2 relative to v0.7, this version adds ```pandas``` dataframe support."
   ]
  },
  {
   "cell_type": "code",
   "execution_count": 26,
   "metadata": {
    "collapsed": false
   },
   "outputs": [
    {
     "name": "stdout",
     "output_type": "stream",
     "text": [
      "/home/git/pyNastran/models/solid_bending/solid_bending.op2\n",
      "/home/git/pyNastran/models/solid_bending/solid_bending.op2\n",
      "INFO:      fname=op2.py                    lineNo=107    vectorized=True combine=True\n",
      "INFO:      fname=op2.py                    lineNo=111    -------- reading op2 with read_mode=1 --------\n",
      "DEBUG:     fname=op2_scalar.py             lineNo=482    op2_filename = '/home/git/pyNastran/models/solid_bending/solid_bending.op2'\n",
      "INFO:      fname=op2_scalar.py             lineNo=595      table_name=b'GEOM1'\n",
      "INFO:      fname=op2_scalar.py             lineNo=595      table_name=b'GEOM2'\n",
      "INFO:      fname=op2_scalar.py             lineNo=595      table_name=b'GEOM3'\n",
      "INFO:      fname=op2_scalar.py             lineNo=595      table_name=b'GEOM4'\n",
      "INFO:      fname=op2_scalar.py             lineNo=595      table_name=b'EPT'\n",
      "INFO:      fname=op2_scalar.py             lineNo=595      table_name=b'MPTS'\n",
      "INFO:      fname=op2_scalar.py             lineNo=595      table_name=b'OQG1'\n",
      "INFO:      fname=op2_scalar.py             lineNo=595      table_name=b'OUGV1'\n",
      "INFO:      fname=op2_scalar.py             lineNo=595      table_name=b'OES1X1'\n",
      "INFO:      fname=op2.py                    lineNo=123    -------- reading op2 with read_mode=2 --------\n",
      "INFO:      fname=op2_scalar.py             lineNo=595      table_name=b'GEOM1'\n",
      "INFO:      fname=op2_scalar.py             lineNo=595      table_name=b'GEOM2'\n",
      "INFO:      fname=op2_scalar.py             lineNo=595      table_name=b'GEOM3'\n",
      "INFO:      fname=op2_scalar.py             lineNo=595      table_name=b'GEOM4'\n",
      "INFO:      fname=op2_scalar.py             lineNo=595      table_name=b'EPT'\n",
      "INFO:      fname=op2_scalar.py             lineNo=595      table_name=b'MPTS'\n",
      "INFO:      fname=op2_scalar.py             lineNo=595      table_name=b'OQG1'\n",
      "INFO:      fname=op2_scalar.py             lineNo=595      table_name=b'OUGV1'\n",
      "INFO:      fname=op2_scalar.py             lineNo=595      table_name=b'OES1X1'\n",
      "INFO:      fname=op2.py                    lineNo=157    compress_results\n",
      "INFO:      fname=op2.py                    lineNo=131    finished reading op2\n"
     ]
    }
   ],
   "source": [
    "#op2_filename = r'D:\\work\\pynastran_0.8.0\\models\\iSat\\ISat_Launch_Sm_Rgd.op2'\n",
    "#op2_filename = r'D:\\work\\pynastran_0.8.0\\models\\iSat\\ISat_Launch_Sm_4pt.op2'\n",
    "op2_filename = os.path.abspath(os.path.join('../../..', 'models', 'solid_bending', 'solid_bending.op2'))\n",
    "assert os.path.exists(op2_filename), print_bad_path(op2_filename)\n",
    "print(op2_filename)\n",
    "!ls /home/git/pyNastran/models/solid_bending/solid_bending.op2\n",
    "\n",
    "# define the input file with a file path\n",
    "op2 = OP2()\n",
    "#op2 = OP2.read_op2(op2_filename, build_dataframe=True, debug=False)\n",
    "op2 = op2.read_op2(op2_filename, True, True)"
   ]
  },
  {
   "cell_type": "markdown",
   "metadata": {},
   "source": [
    "## OP2 Introspection\n",
    "The ```get_op2_stats()``` function lets you quickly understand what in an op2."
   ]
  },
  {
   "cell_type": "code",
   "execution_count": 28,
   "metadata": {
    "collapsed": false
   },
   "outputs": [],
   "source": [
    "#print(op2.get_op2_stats())"
   ]
  },
  {
   "cell_type": "markdown",
   "metadata": {},
   "source": [
    "### If that's too long..."
   ]
  },
  {
   "cell_type": "code",
   "execution_count": 30,
   "metadata": {
    "collapsed": false
   },
   "outputs": [],
   "source": [
    "#print(op2.get_op2_stats(short=True))"
   ]
  },
  {
   "cell_type": "markdown",
   "metadata": {},
   "source": [
    "## Acccessing the Eigenvectors object\n",
    "\n",
    "Eigenvectors are the simplest object.  They use the same class as for displacements, velocity, acceleration, SPC Forces, MPC Forces, Applied Loads, etc.  These are all node-based tables with TX, TY, TZ, RX, RY, RZ.  Results are in the analysis coordinate frame (CD), which is defined by the GRID card.\n",
    "\n",
    "### Numpy-based Approach\n",
    "We'll first show off the standard ```numpy``` based results on a transient case.  Static results are the same, except that you'll always use the 0th index for the \"time\" index.\n",
    "\n",
    "The tutorial is intetionally just accessing the objects in a very clear, though inefficient way.  The OP2 objects can take full advantage of the numpy operations."
   ]
  },
  {
   "cell_type": "code",
   "execution_count": 36,
   "metadata": {
    "collapsed": false
   },
   "outputs": [
    {
     "ename": "AttributeError",
     "evalue": "'NoneType' object has no attribute 'eigenvectors'",
     "output_type": "error",
     "traceback": [
      "\u001b[1;31m---------------------------------------------------------------------------\u001b[0m",
      "\u001b[1;31mAttributeError\u001b[0m                            Traceback (most recent call last)",
      "\u001b[1;32m<ipython-input-36-9cd89ad3911f>\u001b[0m in \u001b[0;36m<module>\u001b[1;34m()\u001b[0m\n\u001b[0;32m      1\u001b[0m \u001b[1;31m# what modes did we analyze:  1 to 167\u001b[0m\u001b[1;33m\u001b[0m\u001b[1;33m\u001b[0m\u001b[0m\n\u001b[1;32m----> 2\u001b[1;33m \u001b[0mprint\u001b[0m\u001b[1;33m(\u001b[0m\u001b[1;34m\"loadcases = %s\"\u001b[0m \u001b[1;33m%\u001b[0m \u001b[0mop2\u001b[0m\u001b[1;33m.\u001b[0m\u001b[0meigenvectors\u001b[0m\u001b[1;33m.\u001b[0m\u001b[0mkeys\u001b[0m\u001b[1;33m(\u001b[0m\u001b[1;33m)\u001b[0m\u001b[1;33m)\u001b[0m\u001b[1;33m\u001b[0m\u001b[0m\n\u001b[0m\u001b[0;32m      3\u001b[0m \u001b[1;33m\u001b[0m\u001b[0m\n\u001b[0;32m      4\u001b[0m \u001b[1;31m# get subcase 1\u001b[0m\u001b[1;33m\u001b[0m\u001b[1;33m\u001b[0m\u001b[0m\n\u001b[0;32m      5\u001b[0m \u001b[0meig1\u001b[0m \u001b[1;33m=\u001b[0m \u001b[0mop2\u001b[0m\u001b[1;33m.\u001b[0m\u001b[0meigenvectors\u001b[0m\u001b[1;33m[\u001b[0m\u001b[1;36m1\u001b[0m\u001b[1;33m]\u001b[0m\u001b[1;33m\u001b[0m\u001b[0m\n",
      "\u001b[1;31mAttributeError\u001b[0m: 'NoneType' object has no attribute 'eigenvectors'"
     ]
    }
   ],
   "source": [
    "# what modes did we analyze:  1 to 167\n",
    "print(\"loadcases = %s\" % op2.eigenvectors.keys())\n",
    "\n",
    "# get subcase 1\n",
    "eig1 = op2.eigenvectors[1]\n",
    "\n",
    "modes = eig1.modes\n",
    "times = eig1._times #  the generic version of modes\n",
    "print(\"modes = %s\\n\" % modes)\n",
    "print(\"times = %s\\n\" % times)\n",
    "\n",
    "imode2 = 1 # corresponds to mode 2\n",
    "mode2 = eig1.data[imode2, :, :]\n",
    "\n",
    "print('first 10 nodes and grid types\\nNid Gridtype\\n%s' % eig1.node_gridtype[:10, :])\n",
    "node_ids = eig1.node_gridtype[:, 0]\n",
    "\n",
    "index_node10 = np.where(node_ids == 10)[0]  # we add the [0] because it's 1d\n",
    "mode2_node10 = mode2[index_node10]\n",
    "print(\"translation mode2_node10 = %s\" % eig1.data[imode2, index_node10, :3].ravel())\n",
    "print(\"rotations mode2_node10 = %s\" % eig1.data[imode2, index_node10, 3:].ravel())"
   ]
  },
  {
   "cell_type": "markdown",
   "metadata": {},
   "source": [
    "### Pandas-based Approach\n",
    "\n",
    "If you like pandas, you can access all the OP2 objects, which is very useful within the Jupyter Notebook.  Different objects will look differently, but you can change the layout.\n",
    "\n",
    "If you're trying to learn pandas, there are many tutorials online, such as:\n",
    "http://pandas.pydata.org/pandas-docs/stable/10min.html\n",
    "\n",
    "or a very long, but good video:"
   ]
  },
  {
   "cell_type": "code",
   "execution_count": 34,
   "metadata": {
    "collapsed": false
   },
   "outputs": [
    {
     "data": {
      "image/jpeg": "[encoded data removed]",
      "text/html": [
       "\n",
       "        <iframe\n",
       "            width=\"400\"\n",
       "            height=\"300\"\n",
       "            src=\"https://www.youtube.com/embed/5JnMutdy6Fw\"\n",
       "            frameborder=\"0\"\n",
       "            allowfullscreen\n",
       "        ></iframe>\n",
       "        "
      ],
      "text/plain": [
       "<IPython.lib.display.YouTubeVideo at 0x7f11cd018a90>"
      ]
     },
     "execution_count": 34,
     "metadata": {},
     "output_type": "execute_result"
    }
   ],
   "source": [
    "from IPython.display import YouTubeVideo\n",
    "YouTubeVideo('5JnMutdy6Fw')\n",
    "#https://www.youtube.com/watch?v=5JnMutdy6Fw"
   ]
  },
  {
   "cell_type": "code",
   "execution_count": 37,
   "metadata": {
    "collapsed": false
   },
   "outputs": [
    {
     "ename": "AttributeError",
     "evalue": "'NoneType' object has no attribute 'eigenvectors'",
     "output_type": "error",
     "traceback": [
      "\u001b[1;31m---------------------------------------------------------------------------\u001b[0m",
      "\u001b[1;31mAttributeError\u001b[0m                            Traceback (most recent call last)",
      "\u001b[1;32m<ipython-input-37-ce0cb170d9b5>\u001b[0m in \u001b[0;36m<module>\u001b[1;34m()\u001b[0m\n\u001b[0;32m      1\u001b[0m \u001b[1;31m# get subcase 1\u001b[0m\u001b[1;33m\u001b[0m\u001b[1;33m\u001b[0m\u001b[0m\n\u001b[1;32m----> 2\u001b[1;33m \u001b[0meig1\u001b[0m \u001b[1;33m=\u001b[0m \u001b[0mop2\u001b[0m\u001b[1;33m.\u001b[0m\u001b[0meigenvectors\u001b[0m\u001b[1;33m[\u001b[0m\u001b[1;36m1\u001b[0m\u001b[1;33m]\u001b[0m\u001b[1;33m\u001b[0m\u001b[0m\n\u001b[0m\u001b[0;32m      3\u001b[0m \u001b[1;33m\u001b[0m\u001b[0m\n\u001b[0;32m      4\u001b[0m \u001b[0mprint\u001b[0m\u001b[1;33m(\u001b[0m\u001b[0meig1\u001b[0m\u001b[1;33m.\u001b[0m\u001b[0mdata_frame\u001b[0m\u001b[1;33m)\u001b[0m\u001b[1;33m\u001b[0m\u001b[0m\n",
      "\u001b[1;31mAttributeError\u001b[0m: 'NoneType' object has no attribute 'eigenvectors'"
     ]
    }
   ],
   "source": [
    "# get subcase 1\n",
    "eig1 = op2.eigenvectors[1]\n",
    "\n",
    "print(eig1.data_frame)"
   ]
  },
  {
   "cell_type": "markdown",
   "metadata": {},
   "source": [
    "## Accessing the plate stress/strain\n",
    "Results are stored on a per element type basis.\n",
    "\n",
    "The OP2 is the same as an F06, so CQUAD4 elements have centroidal-based results or centroidal-based as well as the results at the 4 corner nodes.\n",
    "\n",
    "Be careful about what you're accessing."
   ]
  },
  {
   "cell_type": "code",
   "execution_count": 38,
   "metadata": {
    "collapsed": false
   },
   "outputs": [
    {
     "ename": "AttributeError",
     "evalue": "'NoneType' object has no attribute 'cquad4_stress'",
     "output_type": "error",
     "traceback": [
      "\u001b[1;31m---------------------------------------------------------------------------\u001b[0m",
      "\u001b[1;31mAttributeError\u001b[0m                            Traceback (most recent call last)",
      "\u001b[1;32m<ipython-input-38-bdd4394b270c>\u001b[0m in \u001b[0;36m<module>\u001b[1;34m()\u001b[0m\n\u001b[0;32m      1\u001b[0m \u001b[1;31m# element forces/stresses/strains are by element type consistent with the F06, so...\u001b[0m\u001b[1;33m\u001b[0m\u001b[1;33m\u001b[0m\u001b[0m\n\u001b[1;32m----> 2\u001b[1;33m \u001b[0mplate_stress\u001b[0m \u001b[1;33m=\u001b[0m \u001b[0mop2\u001b[0m\u001b[1;33m.\u001b[0m\u001b[0mcquad4_stress\u001b[0m\u001b[1;33m[\u001b[0m\u001b[1;36m1\u001b[0m\u001b[1;33m]\u001b[0m\u001b[1;33m\u001b[0m\u001b[0m\n\u001b[0m\u001b[0;32m      3\u001b[0m \u001b[0mprint\u001b[0m\u001b[1;33m(\u001b[0m\u001b[1;34m\"plate_stress_obj = %s\"\u001b[0m \u001b[1;33m%\u001b[0m \u001b[0mtype\u001b[0m\u001b[1;33m(\u001b[0m\u001b[0mplate_stress\u001b[0m\u001b[1;33m)\u001b[0m\u001b[1;33m)\u001b[0m\u001b[1;33m\u001b[0m\u001b[0m\n\u001b[0;32m      4\u001b[0m \u001b[1;33m\u001b[0m\u001b[0m\n\u001b[0;32m      5\u001b[0m \u001b[1;31m# the set of variables in the RealPlateStressArray\u001b[0m\u001b[1;33m\u001b[0m\u001b[1;33m\u001b[0m\u001b[0m\n",
      "\u001b[1;31mAttributeError\u001b[0m: 'NoneType' object has no attribute 'cquad4_stress'"
     ]
    }
   ],
   "source": [
    "# element forces/stresses/strains are by element type consistent with the F06, so...\n",
    "plate_stress = op2.cquad4_stress[1]\n",
    "print(\"plate_stress_obj = %s\" % type(plate_stress))\n",
    "\n",
    "# the set of variables in the RealPlateStressArray\n",
    "print(\"plate_stress = %s\\n\" % plate_stress.__dict__.keys())\n",
    "\n",
    "# list of parameters that define the object (e.g. what is the nonlinear variable name\n",
    "print(\"data_code_keys = %s\\n\" % plate_stress.data_code.keys())\n",
    "\n",
    "# nonlinear variable name\n",
    "name = plate_stress.data_code['name']\n",
    "print(\"name = %r\" % plate_stress.data_code['name'])\n",
    "\n",
    "print(\"list-type variables = %s\" % plate_stress.data_code['data_names'])\n",
    "\n",
    "# the special loop parameter\n",
    "# for modal analysis, it's \"modes\"\n",
    "# for transient, it's \"times\"\n",
    "# or be lazy and use \"_times\"\n",
    "print(\"modes = %s\" % plate_stress.modes) # name + 's'\n",
    "\n",
    "\n",
    "# extra list-type parameter for modal analysis; see dataNames\n",
    "#print(\"mode_cycles =\", plate_stress.mode_cycles)"
   ]
  },
  {
   "cell_type": "markdown",
   "metadata": {},
   "source": [
    "### Similar to the BDF, we can use object_attributes/methods"
   ]
  },
  {
   "cell_type": "code",
   "execution_count": 39,
   "metadata": {
    "collapsed": false
   },
   "outputs": [
    {
     "ename": "NameError",
     "evalue": "name 'plate_stress' is not defined",
     "output_type": "error",
     "traceback": [
      "\u001b[1;31m---------------------------------------------------------------------------\u001b[0m",
      "\u001b[1;31mNameError\u001b[0m                                 Traceback (most recent call last)",
      "\u001b[1;32m<ipython-input-39-9a57229a7faa>\u001b[0m in \u001b[0;36m<module>\u001b[1;34m()\u001b[0m\n\u001b[0;32m      1\u001b[0m \u001b[1;31m#print \"attributes =\", object_attributes(plate_stress)\u001b[0m\u001b[1;33m\u001b[0m\u001b[1;33m\u001b[0m\u001b[0m\n\u001b[1;32m----> 2\u001b[1;33m \u001b[0mprint\u001b[0m\u001b[1;33m(\u001b[0m\u001b[1;34m\"methods = %s\\n\"\u001b[0m \u001b[1;33m%\u001b[0m \u001b[0mobject_methods\u001b[0m\u001b[1;33m(\u001b[0m\u001b[0mplate_stress\u001b[0m\u001b[1;33m)\u001b[0m\u001b[1;33m)\u001b[0m\u001b[1;33m\u001b[0m\u001b[0m\n\u001b[0m\u001b[0;32m      3\u001b[0m \u001b[0mprint\u001b[0m\u001b[1;33m(\u001b[0m\u001b[1;34m'methods2= %s\\n'\u001b[0m \u001b[1;33m%\u001b[0m \u001b[0mplate_stress\u001b[0m\u001b[1;33m.\u001b[0m\u001b[0mobject_methods\u001b[0m\u001b[1;33m(\u001b[0m\u001b[1;33m)\u001b[0m\u001b[1;33m)\u001b[0m\u001b[1;33m\u001b[0m\u001b[0m\n\u001b[0;32m      4\u001b[0m \u001b[0mprint\u001b[0m\u001b[1;33m(\u001b[0m\u001b[1;34m\"headers = %s\\n\"\u001b[0m \u001b[1;33m%\u001b[0m \u001b[0mplate_stress\u001b[0m\u001b[1;33m.\u001b[0m\u001b[0mget_headers\u001b[0m\u001b[1;33m(\u001b[0m\u001b[1;33m)\u001b[0m\u001b[1;33m)\u001b[0m\u001b[1;33m\u001b[0m\u001b[0m\n",
      "\u001b[1;31mNameError\u001b[0m: name 'plate_stress' is not defined"
     ]
    }
   ],
   "source": [
    "#print \"attributes =\", object_attributes(plate_stress)\n",
    "print(\"methods = %s\\n\" % object_methods(plate_stress))\n",
    "print('methods2= %s\\n' % plate_stress.object_methods())\n",
    "print(\"headers = %s\\n\" % plate_stress.get_headers())"
   ]
  },
  {
   "cell_type": "markdown",
   "metadata": {
    "collapsed": false
   },
   "source": [
    "### Number of Nodes on a CQUAD4\n",
    " - For linear CQUAD4s, there is 1 centroidal stress at two locations \n",
    " - For bilinear quads, there are 5 stresses at two locations (4 nodes + centroidal)\n",
    " - node_id=0 indicates a centroidal quantity\n",
    " - CTRIA3s are always centroidal\n",
    "\n",
    "#### What sets this?\n",
    "    STRESS(real, sort1, BILIN) = ALL   # bilinear cquad\n",
    "    STRESS(real, sort1, CENT) = ALL    # linear quad\n",
    "\n",
    "    STRAIN(real, sort1, BILIN) = ALL   # bilinear cquad\n",
    "    STRAIN(real, sort1, CENT) = ALL    # linear quad\n",
    "\n",
    "#### How do we know if we're bilinear?\n",
    "```\n",
    "print(\"is_bilinear = %s\\n\" % plate_stress.is_bilinear())\n",
    "```\n",
    "\n",
    "#### What locations are chosen?\n",
    " That depends on fiber distance/fiber curvature...\n",
    " - fiber_curvature - mean stress (oa) & slope (om)\n",
    " \n",
    "    $$ \\sigma_{top} = \\sigma_{alt} + \\frac{t}{2} \\sigma_{mean}$$\n",
    "    \n",
    "    $$ \\sigma_{btm} = \\sigma_{alt} + \\frac{t}{2} \\sigma_{mean}$$\n",
    " \n",
    " - fiber_distance - upper and lower surface stress (o_top; o_btm)\n",
    " - If you have stress, fiber_distance is always returned regardless of your option.\n",
    "\n",
    "#### What sets this?\n",
    "    STRAIN(real, sort1, FIBER) = ALL   # fiber distance/default\n",
    "    STRAIN(real, sort1, STRCUR) = ALL  # strain curvature\n",
    "\n",
    "\n",
    "#### How do we know if we're using fiber_distance?\n",
    "```\n",
    "print(\"is_fiber_distance = %s\" % plate_stress.is_fiber_distance())\n",
    "```\n",
    "\n",
    "## Accessing results"
   ]
  },
  {
   "cell_type": "code",
   "execution_count": 40,
   "metadata": {
    "collapsed": false
   },
   "outputs": [
    {
     "ename": "NameError",
     "evalue": "name 'plate_stress' is not defined",
     "output_type": "error",
     "traceback": [
      "\u001b[1;31m---------------------------------------------------------------------------\u001b[0m",
      "\u001b[1;31mNameError\u001b[0m                                 Traceback (most recent call last)",
      "\u001b[1;32m<ipython-input-40-bf0c849bd3f8>\u001b[0m in \u001b[0;36m<module>\u001b[1;34m()\u001b[0m\n\u001b[0;32m     10\u001b[0m \u001b[1;31m#-----------------------------\u001b[0m\u001b[1;33m\u001b[0m\u001b[1;33m\u001b[0m\u001b[0m\n\u001b[0;32m     11\u001b[0m \u001b[1;31m# again, we have linear quads, so two locations per element\u001b[0m\u001b[1;33m\u001b[0m\u001b[1;33m\u001b[0m\u001b[0m\n\u001b[1;32m---> 12\u001b[1;33m \u001b[0mprint\u001b[0m\u001b[1;33m(\u001b[0m\u001b[1;34m\"element_node[:10, :] =\\n%s...\"\u001b[0m \u001b[1;33m%\u001b[0m \u001b[0mplate_stress\u001b[0m\u001b[1;33m.\u001b[0m\u001b[0melement_node\u001b[0m\u001b[1;33m[\u001b[0m\u001b[1;33m:\u001b[0m\u001b[1;36m10\u001b[0m\u001b[1;33m,\u001b[0m \u001b[1;33m:\u001b[0m\u001b[1;33m]\u001b[0m\u001b[1;33m)\u001b[0m\u001b[1;33m\u001b[0m\u001b[0m\n\u001b[0m\u001b[0;32m     13\u001b[0m \u001b[1;33m\u001b[0m\u001b[0m\n\u001b[0;32m     14\u001b[0m \u001b[1;31m# lets get the stress for the first 3 CQUAD4 elements\u001b[0m\u001b[1;33m\u001b[0m\u001b[1;33m\u001b[0m\u001b[0m\n",
      "\u001b[1;31mNameError\u001b[0m: name 'plate_stress' is not defined"
     ]
    }
   ],
   "source": [
    "# element forces/stresses/strains are by element type consistent \n",
    "# with the F06, so...\n",
    "\n",
    "def abs_max_min(vals):\n",
    "    absvals = list(abs(vals))\n",
    "    maxval = max(absvals)\n",
    "    i = absvals.index(maxval)\n",
    "    return vals[i]\n",
    "\n",
    "#-----------------------------\n",
    "# again, we have linear quads, so two locations per element\n",
    "print(\"element_node[:10, :] =\\n%s...\" % plate_stress.element_node[:10, :])\n",
    "\n",
    "# lets get the stress for the first 3 CQUAD4 elements\n",
    "eids = plate_stress.element_node[:, 0]\n",
    "ueids = np.unique(eids)\n",
    "print('ueids = %s' % ueids[:3])\n",
    "\n",
    "# get the first index of the first 5 elements\n",
    "ieids = np.searchsorted(eids, ueids[:3])\n",
    "print('ieids = %s' % ieids)\n",
    "\n",
    "# the easy way to slice data for linear plates\n",
    "ieids5 = np.vstack([ieids, ieids + 1]).ravel()\n",
    "ieids5.sort()\n",
    "\n",
    "print('verify5:\\n%s' % ieids5)\n",
    "\n",
    "#-----------------------------\n",
    "itime = 0 # static analysis / mode 1\n",
    "if plate_stress.is_von_mises():  # True\n",
    "    ovm = plate_stress.data[itime, :, 7]\n",
    "    print('we have von mises data; ovm=%s\\n' % ovm)\n",
    "else:\n",
    "    omax_shear = plate_stress.data[itime, :, 7]\n",
    "    print('we have max shear data; omax_shear=%s\\n' % omax_shear)\n",
    "\n",
    "\n",
    "print(\"[layer1, layer2, ...] = %s\" % ovm[ieids5])\n",
    "\n",
    "ieid1000 = np.where(eids == 1000)[0]\n",
    "print('ieid1000 = %s' % ieid1000)\n",
    "ovm_mode6_eid1000 = ovm[ieid1000]\n",
    "print(\"ovm_mode6_eid1000 = %s -> %s\" % (ovm_mode6_eid1000, abs_max_min(ovm_mode6_eid1000)))"
   ]
  },
  {
   "cell_type": "code",
   "execution_count": 41,
   "metadata": {
    "collapsed": false
   },
   "outputs": [
    {
     "ename": "NameError",
     "evalue": "name 'eids' is not defined",
     "output_type": "error",
     "traceback": [
      "\u001b[1;31m---------------------------------------------------------------------------\u001b[0m",
      "\u001b[1;31mNameError\u001b[0m                                 Traceback (most recent call last)",
      "\u001b[1;32m<ipython-input-41-04f697b9dda6>\u001b[0m in \u001b[0;36m<module>\u001b[1;34m()\u001b[0m\n\u001b[0;32m      7\u001b[0m \u001b[0milayer\u001b[0m \u001b[1;33m=\u001b[0m \u001b[1;36m1\u001b[0m\u001b[1;33m\u001b[0m\u001b[0m\n\u001b[0;32m      8\u001b[0m \u001b[1;33m\u001b[0m\u001b[0m\n\u001b[1;32m----> 9\u001b[1;33m \u001b[0mieid10\u001b[0m \u001b[1;33m=\u001b[0m \u001b[0mnp\u001b[0m\u001b[1;33m.\u001b[0m\u001b[0mwhere\u001b[0m\u001b[1;33m(\u001b[0m\u001b[0meids\u001b[0m \u001b[1;33m==\u001b[0m \u001b[0miele\u001b[0m\u001b[1;33m)\u001b[0m\u001b[1;33m[\u001b[0m\u001b[1;36m0\u001b[0m\u001b[1;33m]\u001b[0m\u001b[1;33m[\u001b[0m\u001b[0milayer\u001b[0m\u001b[1;33m]\u001b[0m\u001b[1;33m\u001b[0m\u001b[0m\n\u001b[0m\u001b[0;32m     10\u001b[0m \u001b[0mprint\u001b[0m\u001b[1;33m(\u001b[0m\u001b[1;34m'ieid10 = %s'\u001b[0m \u001b[1;33m%\u001b[0m \u001b[0mieid10\u001b[0m\u001b[1;33m)\u001b[0m\u001b[1;33m\u001b[0m\u001b[0m\n\u001b[0;32m     11\u001b[0m \u001b[0mprint\u001b[0m\u001b[1;33m(\u001b[0m\u001b[0mplate_stress\u001b[0m\u001b[1;33m.\u001b[0m\u001b[0melement_node\u001b[0m\u001b[1;33m[\u001b[0m\u001b[0mieid10\u001b[0m\u001b[1;33m,\u001b[0m \u001b[1;33m:\u001b[0m\u001b[1;33m]\u001b[0m\u001b[1;33m)\u001b[0m\u001b[1;33m\u001b[0m\u001b[0m\n",
      "\u001b[1;31mNameError\u001b[0m: name 'eids' is not defined"
     ]
    }
   ],
   "source": [
    "# see the difference between \"transient\"/\"modal\"/\"frequency\"-style results\n",
    "# and \"nodal\"/\"elemental\"-style results\n",
    "# just change imode\n",
    "\n",
    "imode = 5  # mode 6; could just as easily be dt\n",
    "iele = 10  # element 10\n",
    "ilayer = 1\n",
    "\n",
    "ieid10 = np.where(eids == iele)[0][ilayer]\n",
    "print('ieid10 = %s' % ieid10)\n",
    "print(plate_stress.element_node[ieid10, :])\n",
    "\n",
    "\n",
    "# headers = [u'fiber_distance', u'oxx', u'oyy', u'txy', u'angle', u'omax', u'omin', u'von_mises']\n",
    "print(\"ps.modes = %s\" % plate_stress.modes[imode])\n",
    "print(\"ps.cycles = %s\" % plate_stress.cycles[imode])\n",
    "print(\"oxx = %s\" % plate_stress.data[imode, ieid10, 1])\n",
    "print(\"oyy = %s\" % plate_stress.data[imode, ieid10, 2])\n",
    "print(\"txy = %s\" % plate_stress.data[imode, ieid10, 3])\n",
    "print(\"omax = %s\" % plate_stress.data[imode, ieid10, 5])\n",
    "print(\"omin = %s\" % plate_stress.data[imode, ieid10, 6])\n",
    "print(\"ovm/max_shear = %s\" % plate_stress.data[imode, ieid10, 7])\n",
    "\n",
    "if plate_stress.is_fiber_distance():\n",
    "    print(\"fiber_distance = %s\" % plate_stress.data[imode, ieid10, 0])\n",
    "else:\n",
    "    print(\"curvature = %s\" % plate_stress.data[imode, ieid10, 0])"
   ]
  },
  {
   "cell_type": "code",
   "execution_count": 42,
   "metadata": {
    "collapsed": false
   },
   "outputs": [
    {
     "ename": "ImportError",
     "evalue": "cannot import name 'read_bdf'",
     "output_type": "error",
     "traceback": [
      "\u001b[1;31m---------------------------------------------------------------------------\u001b[0m",
      "\u001b[1;31mImportError\u001b[0m                               Traceback (most recent call last)",
      "\u001b[1;32m<ipython-input-42-b2df1ed73e80>\u001b[0m in \u001b[0;36m<module>\u001b[1;34m()\u001b[0m\n\u001b[1;32m----> 1\u001b[1;33m \u001b[1;32mfrom\u001b[0m \u001b[0mpyNastran\u001b[0m\u001b[1;33m.\u001b[0m\u001b[0mbdf\u001b[0m\u001b[1;33m.\u001b[0m\u001b[0mbdf\u001b[0m \u001b[1;32mimport\u001b[0m \u001b[0mread_bdf\u001b[0m\u001b[1;33m\u001b[0m\u001b[0m\n\u001b[0m\u001b[0;32m      2\u001b[0m \u001b[0mbdf_filename\u001b[0m \u001b[1;33m=\u001b[0m \u001b[0mos\u001b[0m\u001b[1;33m.\u001b[0m\u001b[0mpath\u001b[0m\u001b[1;33m.\u001b[0m\u001b[0mabspath\u001b[0m\u001b[1;33m(\u001b[0m\u001b[0mos\u001b[0m\u001b[1;33m.\u001b[0m\u001b[0mpath\u001b[0m\u001b[1;33m.\u001b[0m\u001b[0mjoin\u001b[0m\u001b[1;33m(\u001b[0m\u001b[0mpkg_path\u001b[0m\u001b[1;33m,\u001b[0m \u001b[1;34m'..'\u001b[0m\u001b[1;33m,\u001b[0m \u001b[1;34m'models'\u001b[0m\u001b[1;33m,\u001b[0m \u001b[1;34m'iSat'\u001b[0m\u001b[1;33m,\u001b[0m \u001b[1;34m'ISat_Launch_Sm_4pt.dat'\u001b[0m\u001b[1;33m)\u001b[0m\u001b[1;33m)\u001b[0m\u001b[1;33m\u001b[0m\u001b[0m\n\u001b[0;32m      3\u001b[0m \u001b[0mmodel\u001b[0m \u001b[1;33m=\u001b[0m \u001b[0mread_bdf\u001b[0m\u001b[1;33m(\u001b[0m\u001b[0mbdf_filename\u001b[0m\u001b[1;33m)\u001b[0m\u001b[1;33m\u001b[0m\u001b[0m\n\u001b[0;32m      4\u001b[0m \u001b[0mmass\u001b[0m\u001b[1;33m,\u001b[0m \u001b[0mcg\u001b[0m\u001b[1;33m,\u001b[0m \u001b[0mI\u001b[0m \u001b[1;33m=\u001b[0m \u001b[0mmodel\u001b[0m\u001b[1;33m.\u001b[0m\u001b[0mmass_properties\u001b[0m\u001b[1;33m(\u001b[0m\u001b[1;33m)\u001b[0m\u001b[1;33m\u001b[0m\u001b[0m\n",
      "\u001b[1;31mImportError\u001b[0m: cannot import name 'read_bdf'"
     ]
    }
   ],
   "source": [
    "from pyNastran.bdf.bdf import read_bdf\n",
    "bdf_filename = os.path.abspath(os.path.join(pkg_path, '..', 'models', 'iSat', 'ISat_Launch_Sm_4pt.dat'))\n",
    "model = read_bdf(bdf_filename)\n",
    "mass, cg, I = model.mass_properties()"
   ]
  },
  {
   "cell_type": "code",
   "execution_count": 43,
   "metadata": {
    "collapsed": false
   },
   "outputs": [
    {
     "ename": "FileNotFoundError",
     "evalue": "[Errno 2] No such file or directory: 'C:\\\\Users/emanuele/Desktop'",
     "output_type": "error",
     "traceback": [
      "\u001b[1;31m---------------------------------------------------------------------------\u001b[0m",
      "\u001b[1;31mFileNotFoundError\u001b[0m                         Traceback (most recent call last)",
      "\u001b[1;32m<ipython-input-43-4570a08f4ace>\u001b[0m in \u001b[0;36m<module>\u001b[1;34m()\u001b[0m\n\u001b[0;32m      1\u001b[0m \u001b[1;32mimport\u001b[0m \u001b[0mgetpass\u001b[0m\u001b[1;33m\u001b[0m\u001b[0m\n\u001b[0;32m      2\u001b[0m \u001b[0mname\u001b[0m \u001b[1;33m=\u001b[0m \u001b[0mgetpass\u001b[0m\u001b[1;33m.\u001b[0m\u001b[0mgetuser\u001b[0m\u001b[1;33m(\u001b[0m\u001b[1;33m)\u001b[0m\u001b[1;33m\u001b[0m\u001b[0m\n\u001b[1;32m----> 3\u001b[1;33m \u001b[0mos\u001b[0m\u001b[1;33m.\u001b[0m\u001b[0mchdir\u001b[0m\u001b[1;33m(\u001b[0m\u001b[0mos\u001b[0m\u001b[1;33m.\u001b[0m\u001b[0mpath\u001b[0m\u001b[1;33m.\u001b[0m\u001b[0mjoin\u001b[0m\u001b[1;33m(\u001b[0m\u001b[1;34mr'C:\\Users'\u001b[0m\u001b[1;33m,\u001b[0m \u001b[0mname\u001b[0m\u001b[1;33m,\u001b[0m \u001b[1;34m'Desktop'\u001b[0m\u001b[1;33m)\u001b[0m\u001b[1;33m)\u001b[0m\u001b[1;33m\u001b[0m\u001b[0m\n\u001b[0m\u001b[0;32m      4\u001b[0m \u001b[1;33m\u001b[0m\u001b[0m\n\u001b[0;32m      5\u001b[0m \u001b[1;31m# write the F06 with Real/Imaginary or Magnitude/Phase\u001b[0m\u001b[1;33m\u001b[0m\u001b[1;33m\u001b[0m\u001b[0m\n",
      "\u001b[1;31mFileNotFoundError\u001b[0m: [Errno 2] No such file or directory: 'C:\\\\Users/emanuele/Desktop'"
     ]
    }
   ],
   "source": [
    "import getpass\n",
    "name = getpass.getuser()\n",
    "os.chdir(os.path.join(r'C:\\Users', name, 'Desktop'))\n",
    "\n",
    "# write the F06 with Real/Imaginary or Magnitude/Phase\n",
    "# only matters for complex results\n",
    "#op2.write_f06('isat.f06', is_mag_phase=False)\n",
    "\n",
    "!head -n 40 isat.f06\n",
    "gpw = op2.grid_point_weight\n",
    "print(gpw.object_attributes())\n",
    "\n",
    "# The mass results are different as pyNastran's mass assumes point masses.\n",
    "# The larger your model is and the further from the origin, the more accurate\n",
    "# the result.\n",
    "# For some applications (e.g. a weight breakdown), this may be fine.\n",
    "print('cg =\\n%s' % gpw.cg)\n",
    "print('cg = %s' % cg)"
   ]
  },
  {
   "cell_type": "code",
   "execution_count": null,
   "metadata": {
    "collapsed": true
   },
   "outputs": [],
   "source": []
  }
 ],
 "metadata": {
  "kernelspec": {
   "display_name": "Python 3.5.1",
   "language": "python",
   "name": "python351"
  },
  "language_info": {
   "codemirror_mode": {
    "name": "ipython",
    "version": 3
   },
   "file_extension": ".py",
   "mimetype": "text/x-python",
   "name": "python",
   "nbconvert_exporter": "python",
   "pygments_lexer": "ipython3",
   "version": "3.5.1"
  }
 },
 "nbformat": 4,
 "nbformat_minor": 0
}
