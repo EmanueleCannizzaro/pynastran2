{
 "cells": [
  {
   "cell_type": "markdown",
   "metadata": {},
   "source": [
    "# PyNastran - Static Analysis"
   ]
  },
  {
   "cell_type": "markdown",
   "metadata": {},
   "source": [
    "The iPython notebook for this demo can be found in:\n",
    "   - docs\\quick_start\\demo\\op2_pandas_multi_case.ipynb\n",
    "   - https://github.com/SteveDoyle2/pyNastran/tree/master/docs/quick_start/demo/op2_pandas_multi_case.ipynb"
   ]
  },
  {
   "cell_type": "code",
   "execution_count": 1,
   "metadata": {},
   "outputs": [],
   "source": [
    "import sys\n",
    "import os\n",
    "LIBRARIES = ['../../../', '../../../../humanfriendly', '../../../../tabulate']\n",
    "for lib in LIBRARIES:\n",
    "    if not os.path.exists(lib) :\n",
    "        print('The specified libray path does not exists.')\n",
    "        sys.exit(1)\n",
    "    if os.path.abspath(lib) not in sys.path:\n",
    "        sys.path.append(os.path.abspath(lib))\n",
    "import humanfriendly\n",
    "#import tabulate\n",
    "from tabulate import tabulate\n",
    "import pyNastran"
   ]
  },
  {
   "cell_type": "code",
   "execution_count": 2,
   "metadata": {
    "scrolled": false
   },
   "outputs": [],
   "source": [
    "import glob\n",
    "\n",
    "import numpy as np\n",
    "np.set_printoptions(formatter={'all':lambda x: '%g'})\n",
    "\n",
    "import pandas as pd\n",
    "# Sets default precision of real numbers for pandas output\\n\"\n",
    "pd.set_option('precision', 2)\n",
    "\n",
    "from IPython.core.display import display, HTML\n",
    "\n",
    "from pyNastran.op2.op2 import read_op2\n",
    "\n",
    "pkg_path = pyNastran.__path__[0]\n",
    "model_path = os.path.join(pkg_path, '..', 'models')"
   ]
  },
  {
   "cell_type": "code",
   "execution_count": 3,
   "metadata": {},
   "outputs": [
    {
     "name": "stdout",
     "output_type": "stream",
     "text": [
      "Size of the example file is 526.51 MiB.\n"
     ]
    }
   ],
   "source": [
    "OP2_fname = glob.glob(os.path.join('..', '..', '..', 'data', 'sidestay*.op2'))[1]\n",
    "#Returns real size of file in bytes\n",
    "print('Size of the example file is %s.' %humanfriendly.format_size(os.path.getsize(OP2_fname), binary=True))\n",
    "#print(humanfriendly.format_size(os.stat(OP2_fname).st_size, binary=True))"
   ]
  },
  {
   "cell_type": "code",
   "execution_count": 4,
   "metadata": {},
   "outputs": [],
   "source": [
    "#read_op2?\n",
    "#dir(tabulate)"
   ]
  },
  {
   "cell_type": "markdown",
   "metadata": {
    "collapsed": true
   },
   "source": [
    "Let's show off ``combine=True/False``.  We'll talk about the keys soon."
   ]
  },
  {
   "cell_type": "code",
   "execution_count": 16,
   "metadata": {},
   "outputs": [],
   "source": [
    "DISPLACEMENTS_HEADER = ['Subcase','Code', 'Sort Method', 'Count', 'Description']\n",
    "#isubcase, analysis_code, sort_method, count, subtitle"
   ]
  },
  {
   "cell_type": "code",
   "execution_count": 17,
   "metadata": {},
   "outputs": [
    {
     "name": "stdout",
     "output_type": "stream",
     "text": [
      "INFO:    op2_scalar.py:1173           op2_filename = '../../../data/sidestay-0.1.2nd-order_elements.op2'\n"
     ]
    }
   ],
   "source": [
    "#%%timeit\n",
    "result = read_op2(OP2_fname, combine=False, debug=False)\n",
    "#result = read_op2(OP2_fname, combine=True, debug=False)"
   ]
  },
  {
   "cell_type": "code",
   "execution_count": 18,
   "metadata": {},
   "outputs": [
    {
     "name": "stdout",
     "output_type": "stream",
     "text": [
      "displacements[(1, 1, 1, 0, 'WING LANDING GEAR SUPPORT STRUCTURE')]\n",
      "displacements[(2, 1, 1, 0, 'WING LANDING GEAR SUPPORT STRUCTURE')]\n",
      "displacements[(3, 1, 1, 0, 'WING LANDING GEAR SUPPORT STRUCTURE')]\n",
      "spc_forces[(1, 1, 1, 0, 'WING LANDING GEAR SUPPORT STRUCTURE')]\n",
      "spc_forces[(2, 1, 1, 0, 'WING LANDING GEAR SUPPORT STRUCTURE')]\n",
      "spc_forces[(3, 1, 1, 0, 'WING LANDING GEAR SUPPORT STRUCTURE')]\n",
      "load_vectors[(1, 1, 1, 0, 'WING LANDING GEAR SUPPORT STRUCTURE')]\n",
      "load_vectors[(2, 1, 1, 0, 'WING LANDING GEAR SUPPORT STRUCTURE')]\n",
      "load_vectors[(3, 1, 1, 0, 'WING LANDING GEAR SUPPORT STRUCTURE')]\n",
      "ctetra_stress[(1, 1, 1, 0, 'WING LANDING GEAR SUPPORT STRUCTURE')]\n",
      "ctetra_stress[(2, 1, 1, 0, 'WING LANDING GEAR SUPPORT STRUCTURE')]\n",
      "ctetra_stress[(3, 1, 1, 0, 'WING LANDING GEAR SUPPORT STRUCTURE')]\n",
      "\n"
     ]
    }
   ],
   "source": [
    "print(result.get_op2_stats(short=True))"
   ]
  },
  {
   "cell_type": "code",
   "execution_count": 19,
   "metadata": {},
   "outputs": [
    {
     "data": {
      "text/html": [
       "<table>\n",
       "<thead>\n",
       "<tr><th style=\"text-align: right;\">  Subcase</th><th style=\"text-align: right;\">  Code</th><th style=\"text-align: right;\">  Sort Method</th><th style=\"text-align: right;\">  Count</th><th>Description                        </th></tr>\n",
       "</thead>\n",
       "<tbody>\n",
       "<tr><td style=\"text-align: right;\">        1</td><td style=\"text-align: right;\">     1</td><td style=\"text-align: right;\">            1</td><td style=\"text-align: right;\">      0</td><td>WING LANDING GEAR SUPPORT STRUCTURE</td></tr>\n",
       "<tr><td style=\"text-align: right;\">        2</td><td style=\"text-align: right;\">     1</td><td style=\"text-align: right;\">            1</td><td style=\"text-align: right;\">      0</td><td>WING LANDING GEAR SUPPORT STRUCTURE</td></tr>\n",
       "<tr><td style=\"text-align: right;\">        3</td><td style=\"text-align: right;\">     1</td><td style=\"text-align: right;\">            1</td><td style=\"text-align: right;\">      0</td><td>WING LANDING GEAR SUPPORT STRUCTURE</td></tr>\n",
       "</tbody>\n",
       "</table>"
      ],
      "text/plain": [
       "<IPython.core.display.HTML object>"
      ]
     },
     "metadata": {},
     "output_type": "display_data"
    }
   ],
   "source": [
    "display(HTML(tabulate.tabulate(result.displacements.keys(), headers=DISPLACEMENTS_HEADER, tablefmt='html')))"
   ]
  },
  {
   "cell_type": "code",
   "execution_count": 20,
   "metadata": {},
   "outputs": [
    {
     "data": {
      "text/html": [
       "<table>\n",
       "<thead>\n",
       "<tr><th style=\"text-align: right;\">  Subcase</th><th style=\"text-align: right;\">  Code</th><th style=\"text-align: right;\">  Sort Method</th><th style=\"text-align: right;\">  Count</th><th>Description                        </th></tr>\n",
       "</thead>\n",
       "<tbody>\n",
       "<tr><td style=\"text-align: right;\">        1</td><td style=\"text-align: right;\">     1</td><td style=\"text-align: right;\">            1</td><td style=\"text-align: right;\">      0</td><td>WING LANDING GEAR SUPPORT STRUCTURE</td></tr>\n",
       "<tr><td style=\"text-align: right;\">        2</td><td style=\"text-align: right;\">     1</td><td style=\"text-align: right;\">            1</td><td style=\"text-align: right;\">      0</td><td>WING LANDING GEAR SUPPORT STRUCTURE</td></tr>\n",
       "<tr><td style=\"text-align: right;\">        3</td><td style=\"text-align: right;\">     1</td><td style=\"text-align: right;\">            1</td><td style=\"text-align: right;\">      0</td><td>WING LANDING GEAR SUPPORT STRUCTURE</td></tr>\n",
       "</tbody>\n",
       "</table>"
      ],
      "text/plain": [
       "<IPython.core.display.HTML object>"
      ]
     },
     "metadata": {},
     "output_type": "display_data"
    }
   ],
   "source": [
    "display(HTML(tabulate.tabulate(result.spc_forces.keys(), headers=DISPLACEMENTS_HEADER, tablefmt='html')))"
   ]
  },
  {
   "cell_type": "code",
   "execution_count": 21,
   "metadata": {},
   "outputs": [
    {
     "data": {
      "text/html": [
       "<table>\n",
       "<thead>\n",
       "<tr><th style=\"text-align: right;\">  Subcase</th><th style=\"text-align: right;\">  Code</th><th style=\"text-align: right;\">  Sort Method</th><th style=\"text-align: right;\">  Count</th><th>Description                        </th></tr>\n",
       "</thead>\n",
       "<tbody>\n",
       "<tr><td style=\"text-align: right;\">        1</td><td style=\"text-align: right;\">     1</td><td style=\"text-align: right;\">            1</td><td style=\"text-align: right;\">      0</td><td>WING LANDING GEAR SUPPORT STRUCTURE</td></tr>\n",
       "<tr><td style=\"text-align: right;\">        2</td><td style=\"text-align: right;\">     1</td><td style=\"text-align: right;\">            1</td><td style=\"text-align: right;\">      0</td><td>WING LANDING GEAR SUPPORT STRUCTURE</td></tr>\n",
       "<tr><td style=\"text-align: right;\">        3</td><td style=\"text-align: right;\">     1</td><td style=\"text-align: right;\">            1</td><td style=\"text-align: right;\">      0</td><td>WING LANDING GEAR SUPPORT STRUCTURE</td></tr>\n",
       "</tbody>\n",
       "</table>"
      ],
      "text/plain": [
       "<IPython.core.display.HTML object>"
      ]
     },
     "metadata": {},
     "output_type": "display_data"
    }
   ],
   "source": [
    "display(HTML(tabulate.tabulate(result.load_vectors.keys(), headers=DISPLACEMENTS_HEADER, tablefmt='html')))"
   ]
  },
  {
   "cell_type": "code",
   "execution_count": 22,
   "metadata": {},
   "outputs": [
    {
     "data": {
      "text/html": [
       "<table>\n",
       "<thead>\n",
       "<tr><th style=\"text-align: right;\">  Subcase</th><th style=\"text-align: right;\">  Code</th><th style=\"text-align: right;\">  Sort Method</th><th style=\"text-align: right;\">  Count</th><th>Description                        </th></tr>\n",
       "</thead>\n",
       "<tbody>\n",
       "<tr><td style=\"text-align: right;\">        1</td><td style=\"text-align: right;\">     1</td><td style=\"text-align: right;\">            1</td><td style=\"text-align: right;\">      0</td><td>WING LANDING GEAR SUPPORT STRUCTURE</td></tr>\n",
       "<tr><td style=\"text-align: right;\">        2</td><td style=\"text-align: right;\">     1</td><td style=\"text-align: right;\">            1</td><td style=\"text-align: right;\">      0</td><td>WING LANDING GEAR SUPPORT STRUCTURE</td></tr>\n",
       "<tr><td style=\"text-align: right;\">        3</td><td style=\"text-align: right;\">     1</td><td style=\"text-align: right;\">            1</td><td style=\"text-align: right;\">      0</td><td>WING LANDING GEAR SUPPORT STRUCTURE</td></tr>\n",
       "</tbody>\n",
       "</table>"
      ],
      "text/plain": [
       "<IPython.core.display.HTML object>"
      ]
     },
     "metadata": {},
     "output_type": "display_data"
    }
   ],
   "source": [
    "display(HTML(tabulate.tabulate(result.ctetra_stress.keys(), headers=DISPLACEMENTS_HEADER, tablefmt='html')))"
   ]
  },
  {
   "cell_type": "markdown",
   "metadata": {},
   "source": [
    "## Static Table"
   ]
  },
  {
   "cell_type": "code",
   "execution_count": 65,
   "metadata": {},
   "outputs": [],
   "source": [
    "stresses = {}\n",
    "for key in result.ctetra_stress.keys():\n",
    "    stresses[key[0]] = result.ctetra_stress[key].data_frame"
   ]
  },
  {
   "cell_type": "code",
   "execution_count": 70,
   "metadata": {
    "scrolled": false
   },
   "outputs": [
    {
     "data": {
      "text/html": [
       "<div>\n",
       "<style>\n",
       "    .dataframe thead tr:only-child th {\n",
       "        text-align: right;\n",
       "    }\n",
       "\n",
       "    .dataframe thead th {\n",
       "        text-align: left;\n",
       "    }\n",
       "\n",
       "    .dataframe tbody tr th {\n",
       "        vertical-align: top;\n",
       "    }\n",
       "</style>\n",
       "<table border=\"1\" class=\"dataframe\">\n",
       "  <thead>\n",
       "    <tr style=\"text-align: right;\">\n",
       "      <th></th>\n",
       "      <th></th>\n",
       "      <th>Static</th>\n",
       "      <th>0</th>\n",
       "    </tr>\n",
       "    <tr>\n",
       "      <th>ElementID</th>\n",
       "      <th>NodeID</th>\n",
       "      <th>Item</th>\n",
       "      <th></th>\n",
       "    </tr>\n",
       "  </thead>\n",
       "  <tbody>\n",
       "    <tr>\n",
       "      <th rowspan=\"10\" valign=\"top\">6000001</th>\n",
       "      <th rowspan=\"10\" valign=\"top\">0</th>\n",
       "      <th>oxx</th>\n",
       "      <td>1.63e-05</td>\n",
       "    </tr>\n",
       "    <tr>\n",
       "      <th>oyy</th>\n",
       "      <td>7.81e-05</td>\n",
       "    </tr>\n",
       "    <tr>\n",
       "      <th>ozz</th>\n",
       "      <td>3.73e-05</td>\n",
       "    </tr>\n",
       "    <tr>\n",
       "      <th>txy</th>\n",
       "      <td>1.09e-04</td>\n",
       "    </tr>\n",
       "    <tr>\n",
       "      <th>tyz</th>\n",
       "      <td>-4.37e-05</td>\n",
       "    </tr>\n",
       "    <tr>\n",
       "      <th>txz</th>\n",
       "      <td>3.78e-05</td>\n",
       "    </tr>\n",
       "    <tr>\n",
       "      <th>omax</th>\n",
       "      <td>1.62e-04</td>\n",
       "    </tr>\n",
       "    <tr>\n",
       "      <th>omid</th>\n",
       "      <td>6.10e-05</td>\n",
       "    </tr>\n",
       "    <tr>\n",
       "      <th>omin</th>\n",
       "      <td>-9.12e-05</td>\n",
       "    </tr>\n",
       "    <tr>\n",
       "      <th>von_mises</th>\n",
       "      <td>2.21e-04</td>\n",
       "    </tr>\n",
       "  </tbody>\n",
       "</table>\n",
       "</div>"
      ],
      "text/plain": [
       "Static                             0\n",
       "ElementID NodeID Item               \n",
       "6000001   0      oxx        1.63e-05\n",
       "                 oyy        7.81e-05\n",
       "                 ozz        3.73e-05\n",
       "                 txy        1.09e-04\n",
       "                 tyz       -4.37e-05\n",
       "                 txz        3.78e-05\n",
       "                 omax       1.62e-04\n",
       "                 omid       6.10e-05\n",
       "                 omin      -9.12e-05\n",
       "                 von_mises  2.21e-04"
      ]
     },
     "execution_count": 70,
     "metadata": {},
     "output_type": "execute_result"
    }
   ],
   "source": [
    "stresses[1].head(10)"
   ]
  },
  {
   "cell_type": "code",
   "execution_count": 71,
   "metadata": {},
   "outputs": [
    {
     "data": {
      "text/html": [
       "<div>\n",
       "<style>\n",
       "    .dataframe thead tr:only-child th {\n",
       "        text-align: right;\n",
       "    }\n",
       "\n",
       "    .dataframe thead th {\n",
       "        text-align: left;\n",
       "    }\n",
       "\n",
       "    .dataframe tbody tr th {\n",
       "        vertical-align: top;\n",
       "    }\n",
       "</style>\n",
       "<table border=\"1\" class=\"dataframe\">\n",
       "  <thead>\n",
       "    <tr style=\"text-align: right;\">\n",
       "      <th>Static</th>\n",
       "      <th>0</th>\n",
       "    </tr>\n",
       "    <tr>\n",
       "      <th>Item</th>\n",
       "      <th></th>\n",
       "    </tr>\n",
       "  </thead>\n",
       "  <tbody>\n",
       "    <tr>\n",
       "      <th>oxx</th>\n",
       "      <td>1756710</td>\n",
       "    </tr>\n",
       "    <tr>\n",
       "      <th>oyy</th>\n",
       "      <td>1756710</td>\n",
       "    </tr>\n",
       "    <tr>\n",
       "      <th>ozz</th>\n",
       "      <td>1756710</td>\n",
       "    </tr>\n",
       "    <tr>\n",
       "      <th>txy</th>\n",
       "      <td>1756710</td>\n",
       "    </tr>\n",
       "    <tr>\n",
       "      <th>tyz</th>\n",
       "      <td>1756710</td>\n",
       "    </tr>\n",
       "    <tr>\n",
       "      <th>txz</th>\n",
       "      <td>1756710</td>\n",
       "    </tr>\n",
       "    <tr>\n",
       "      <th>omax</th>\n",
       "      <td>1756710</td>\n",
       "    </tr>\n",
       "    <tr>\n",
       "      <th>omid</th>\n",
       "      <td>1756710</td>\n",
       "    </tr>\n",
       "    <tr>\n",
       "      <th>omin</th>\n",
       "      <td>1756710</td>\n",
       "    </tr>\n",
       "    <tr>\n",
       "      <th>von_mises</th>\n",
       "      <td>1756710</td>\n",
       "    </tr>\n",
       "  </tbody>\n",
       "</table>\n",
       "</div>"
      ],
      "text/plain": [
       "Static           0\n",
       "Item              \n",
       "oxx        1756710\n",
       "oyy        1756710\n",
       "ozz        1756710\n",
       "txy        1756710\n",
       "tyz        1756710\n",
       "txz        1756710\n",
       "omax       1756710\n",
       "omid       1756710\n",
       "omin       1756710\n",
       "von_mises  1756710"
      ]
     },
     "execution_count": 71,
     "metadata": {},
     "output_type": "execute_result"
    }
   ],
   "source": [
    "stresses[1].groupby(by=['Item']).count()"
   ]
  },
  {
   "cell_type": "code",
   "execution_count": null,
   "metadata": {},
   "outputs": [],
   "source": []
  },
  {
   "cell_type": "code",
   "execution_count": null,
   "metadata": {},
   "outputs": [],
   "source": []
  }
 ],
 "metadata": {
  "kernelspec": {
   "display_name": "Python 3.6",
   "language": "python",
   "name": "py36"
  },
  "language_info": {
   "codemirror_mode": {
    "name": "ipython",
    "version": 3
   },
   "file_extension": ".py",
   "mimetype": "text/x-python",
   "name": "python",
   "nbconvert_exporter": "python",
   "pygments_lexer": "ipython3",
   "version": "3.6.3"
  }
 },
 "nbformat": 4,
 "nbformat_minor": 1
}
