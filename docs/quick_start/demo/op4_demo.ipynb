{
 "cells": [
  {
   "cell_type": "markdown",
   "metadata": {},
   "source": [
    "## OP4 Demo\n",
    "\n",
    "The iPython notebook for this demo can be found in:\n",
    "   - docs\\quick_start\\demo\\op4_demo.ipynb\n",
    "   - https://github.com/SteveDoyle2/pyNastran/tree/master/docs/quick_start/demo/op4_demo.ipynb\n",
    "\n",
    "The OP4 is a Nastran input/output format that can store matrices.\n",
    "\n",
    "The OP2 can as well, but is less validated in regards to matrices.\n",
    "\n",
    "#### Import pyNastran"
   ]
  },
  {
   "cell_type": "code",
   "execution_count": 1,
   "metadata": {
    "collapsed": false
   },
   "outputs": [],
   "source": [
    "import os\n",
    "from pyNastran.utils import print_bad_path\n",
    "from pyNastran.op4.op4 import read_op4\n",
    "import numpy as np\n",
    "from numpy import float32, float64, int32, int64, product\n",
    "\n",
    "# decrease output precision\n",
    "np.set_printoptions(precision=3, threshold=20)"
   ]
  },
  {
   "cell_type": "markdown",
   "metadata": {},
   "source": [
    "#### Print the docstring\n"
   ]
  },
  {
   "cell_type": "code",
   "execution_count": 2,
   "metadata": {
    "collapsed": false
   },
   "outputs": [
    {
     "name": "stdout",
     "output_type": "stream",
     "text": [
      "Help on function read_op4 in module pyNastran.op4.op4:\n",
      "\n",
      "read_op4(op4_filename=None, matrix_names=None, precision='default', debug=False)\n",
      "    Reads a NASTRAN OUTPUT4 file, and stores the\n",
      "    matrices as the output arguments.  The number of\n",
      "    matrices read is defined by the list matrix_names.  By default, all\n",
      "    matrices will be read.  The resulting output is a dictionary of\n",
      "    matrices that are accessed by their name.\n",
      "    \n",
      "    .. code-block:: python\n",
      "    \n",
      "      >>> from pyNastran.op4.op4 import OP4\n",
      "      >>> op4 = OP4()\n",
      "    \n",
      "      # get all the matrices\n",
      "      >>> matrices = op4.read_op4(op4_filename)\n",
      "      >>> (formA, A) = matrices['A']\n",
      "      >>> (formB, B) = matrices['B']\n",
      "      >>> (formC, C) = matrices['C']\n",
      "    \n",
      "      # or to reduce memory usage\n",
      "      >>> matrices = op4.read_op4(op4_filename, matrix_names=['A', 'B'])\n",
      "      >>> (formA, A) = matrices['A']\n",
      "      >>> (formB, B) = matrices['B']\n",
      "    \n",
      "      # or because you only want A\n",
      "      >>> matrices = op4.read_op4(op4_filename, matrix_names='A')\n",
      "      >>> (formA, A) = matrices['A']\n",
      "    \n",
      "      # get all the matrices, but select the file using a file dialog\n",
      "      >>> matrices = op4.read_op4()\n",
      "      >>>\n",
      "    \n",
      "    Parameters\n",
      "    ----------\n",
      "    op4_filename : str / None\n",
      "        an OP4 filename.  Type=STRING.\n",
      "    matrix_names : List[str], str / None\n",
      "        matrix name(s) (None -> all)\n",
      "    precision : str; {'default', 'single', 'double'}\n",
      "        specifies if the matrices are in single or double precsion\n",
      "        which means the format will be whatever the file is in\n",
      "    \n",
      "    Returns\n",
      "    -------\n",
      "    matricies : dict[str] = (int, matrix)\n",
      "        dictionary of matrices where the key is the name and the value is [form, matrix]\n",
      "    \n",
      "        +------+----------------+\n",
      "        | Form |   Definition   |\n",
      "        +======+================+\n",
      "        |  1   | Square         |\n",
      "        +------+----------------+\n",
      "        |  2   | Rectangular    |\n",
      "        +------+----------------+\n",
      "        |  3   | Diagonal       |\n",
      "        +------+----------------+\n",
      "        |  6   | Symmetric      |\n",
      "        +------+----------------+\n",
      "        |  8   | Id entity      |\n",
      "        +------+----------------+\n",
      "        |  9   | Pseudoidentity |\n",
      "        +------+----------------+\n",
      "    \n",
      "        +--------+-------------------------+\n",
      "        |  Type  | Object                  |\n",
      "        +========+=========================+\n",
      "        | Dense  | NUMPY.NDARRAY           |\n",
      "        +--------+-------------------------+\n",
      "        | Sparse | SCIPY.SPARSE.COO_MATRIX |\n",
      "        +--------+-------------------------+\n",
      "    \n",
      "    .. note:: based off the MATLAB code SAVEOP4 developed by ATA-E and\n",
      "              later UCSD.\n",
      "    .. note:: it's strongly recommended that you convert sparse matrices to\n",
      "              another format before doing math on them.  This is standard\n",
      "              with sparse matrices.\n",
      "\n"
     ]
    }
   ],
   "source": [
    "help(read_op4)"
   ]
  },
  {
   "cell_type": "markdown",
   "metadata": {},
   "source": [
    "### So as you can see, Nastran has many matrix formats."
   ]
  },
  {
   "cell_type": "code",
   "execution_count": 3,
   "metadata": {
    "collapsed": false
   },
   "outputs": [],
   "source": [
    "# read the op4, will pop open a dialog box\n",
    "#matrices = read_op4()"
   ]
  },
  {
   "cell_type": "code",
   "execution_count": 4,
   "metadata": {
    "collapsed": false
   },
   "outputs": [],
   "source": [
    "op4_filename = r'C:\\Users\\Steve\\Desktop\\ISat_Launch_Sm_4pt.op4'\n",
    "assert os.path.exists(op4_filename), print_bad_path(op4_filename)\n",
    "\n",
    "#specify the file\n",
    "matrices = read_op4(op4_filename)"
   ]
  },
  {
   "cell_type": "markdown",
   "metadata": {},
   "source": [
    "### There are more ways to read an OP4"
   ]
  },
  {
   "cell_type": "code",
   "execution_count": 5,
   "metadata": {
    "collapsed": false
   },
   "outputs": [],
   "source": [
    "# only 1 matrix\n",
    "matrices = read_op4(op4_filename, matrix_names='FLAMA', debug=False)\n",
    "\n",
    "# 1 or more matrices\n",
    "matrices = read_op4(op4_filename, matrix_names=['FLAMA','UGEXT'])"
   ]
  },
  {
   "cell_type": "code",
   "execution_count": 6,
   "metadata": {
    "collapsed": false
   },
   "outputs": [
    {
     "name": "stdout",
     "output_type": "stream",
     "text": [
      "form = 2\n",
      "type = <type 'numpy.ndarray'>\n"
     ]
    }
   ],
   "source": [
    "# extract a matrix\n",
    "form, flama = matrices['FLAMA']\n",
    "print(\"form = %s\" % form)\n",
    "print(\"type = %s\" % type(flama))"
   ]
  },
  {
   "cell_type": "code",
   "execution_count": 7,
   "metadata": {
    "collapsed": false
   },
   "outputs": [
    {
     "name": "stdout",
     "output_type": "stream",
     "text": [
      "keys = ['FLAMA', 'UGEXT']\n"
     ]
    }
   ],
   "source": [
    "print(\"keys = %s\" % matrices.keys())"
   ]
  },
  {
   "cell_type": "code",
   "execution_count": 8,
   "metadata": {
    "collapsed": false
   },
   "outputs": [
    {
     "name": "stdout",
     "output_type": "stream",
     "text": [
      "['FLAMA', 'UGEXT']\n",
      "shape = (3L, 167L)\n",
      "flamat nvals = 501\n",
      "form_ugext=2 type=<type 'numpy.float64'>\n",
      "ugext.shape = (32274L, 167L)\n",
      "ugext nvals = 5389758\n"
     ]
    }
   ],
   "source": [
    "print(matrices.keys())\n",
    "form_flama, flama = matrices['FLAMA']\n",
    "print(\"shape = %s\" % str(flama.shape))\n",
    "print(\"flamat nvals = %s\" % flama.size)\n",
    "\n",
    "form_ugext, ugext = matrices['UGEXT']\n",
    "print(\"form_ugext=%s type=%s\" % (form_ugext, type(ugext[0,0])))\n",
    "#print \"ugext\", ugext\n",
    "print(\"ugext.shape = %s\" % str(ugext.shape))\n",
    "print(\"ugext nvals = %s\" % ugext.size)"
   ]
  },
  {
   "cell_type": "code",
   "execution_count": 9,
   "metadata": {
    "collapsed": false
   },
   "outputs": [
    {
     "name": "stdout",
     "output_type": "stream",
     "text": [
      "[[  5.548e-03   4.671e-06   1.818e-04 ...,   1.037e-01  -6.919e-02\n",
      "    1.904e-02]\n",
      " [ -2.133e-04   5.699e-03  -2.392e-02 ...,   1.050e-02   5.252e-02\n",
      "   -1.187e-01]\n",
      " [  8.469e-04   1.512e-03  -7.038e-03 ...,  -2.626e-01   2.141e-01\n",
      "    1.473e-01]\n",
      " ..., \n",
      " [ -3.006e-07   5.476e-05  -6.343e-04 ...,   8.221e-03   2.789e-02\n",
      "    2.645e-02]\n",
      " [ -1.723e-06   1.278e-06   1.805e-06 ...,  -4.867e-03   4.639e-03\n",
      "   -6.872e-03]\n",
      " [  7.271e-06   3.394e-06   2.722e-06 ...,  -7.772e-03   7.160e-03\n",
      "   -8.942e-03]]\n"
     ]
    }
   ],
   "source": [
    "print(ugext[:,:])\n",
    "#print(flama)"
   ]
  }
 ],
 "metadata": {
  "kernelspec": {
   "display_name": "Python 2",
   "language": "python",
   "name": "python2"
  },
  "language_info": {
   "codemirror_mode": {
    "name": "ipython",
    "version": 2
   },
   "file_extension": ".py",
   "mimetype": "text/x-python",
   "name": "python",
   "nbconvert_exporter": "python",
   "pygments_lexer": "ipython2",
   "version": "2.7.12"
  }
 },
 "nbformat": 4,
 "nbformat_minor": 0
}
